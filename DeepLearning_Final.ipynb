{
  "nbformat": 4,
  "nbformat_minor": 0,
  "metadata": {
    "colab": {
      "provenance": [],
      "gpuType": "T4"
    },
    "kernelspec": {
      "name": "python3",
      "display_name": "Python 3"
    },
    "language_info": {
      "name": "python"
    },
    "accelerator": "GPU",
    "gpuClass": "standard"
  },
  "cells": [
    {
      "cell_type": "markdown",
      "source": [
        "# Import Packages"
      ],
      "metadata": {
        "id": "fRUe5ipFW4m2"
      }
    },
    {
      "cell_type": "code",
      "source": [
        "!pip install tensorflow"
      ],
      "metadata": {
        "colab": {
          "base_uri": "https://localhost:8080/"
        },
        "id": "_sPwbH8ZXEVw",
        "outputId": "4ceb5333-e452-4a4c-92e2-ae805c70d303"
      },
      "execution_count": 77,
      "outputs": [
        {
          "output_type": "stream",
          "name": "stdout",
          "text": [
            "Looking in indexes: https://pypi.org/simple, https://us-python.pkg.dev/colab-wheels/public/simple/\n",
            "Requirement already satisfied: tensorflow in /usr/local/lib/python3.10/dist-packages (2.12.0)\n",
            "Requirement already satisfied: absl-py>=1.0.0 in /usr/local/lib/python3.10/dist-packages (from tensorflow) (1.4.0)\n",
            "Requirement already satisfied: astunparse>=1.6.0 in /usr/local/lib/python3.10/dist-packages (from tensorflow) (1.6.3)\n",
            "Requirement already satisfied: flatbuffers>=2.0 in /usr/local/lib/python3.10/dist-packages (from tensorflow) (23.3.3)\n",
            "Requirement already satisfied: gast<=0.4.0,>=0.2.1 in /usr/local/lib/python3.10/dist-packages (from tensorflow) (0.4.0)\n",
            "Requirement already satisfied: google-pasta>=0.1.1 in /usr/local/lib/python3.10/dist-packages (from tensorflow) (0.2.0)\n",
            "Requirement already satisfied: grpcio<2.0,>=1.24.3 in /usr/local/lib/python3.10/dist-packages (from tensorflow) (1.54.0)\n",
            "Requirement already satisfied: h5py>=2.9.0 in /usr/local/lib/python3.10/dist-packages (from tensorflow) (3.8.0)\n",
            "Requirement already satisfied: jax>=0.3.15 in /usr/local/lib/python3.10/dist-packages (from tensorflow) (0.4.8)\n",
            "Requirement already satisfied: keras<2.13,>=2.12.0 in /usr/local/lib/python3.10/dist-packages (from tensorflow) (2.12.0)\n",
            "Requirement already satisfied: libclang>=13.0.0 in /usr/local/lib/python3.10/dist-packages (from tensorflow) (16.0.0)\n",
            "Requirement already satisfied: numpy<1.24,>=1.22 in /usr/local/lib/python3.10/dist-packages (from tensorflow) (1.22.4)\n",
            "Requirement already satisfied: opt-einsum>=2.3.2 in /usr/local/lib/python3.10/dist-packages (from tensorflow) (3.3.0)\n",
            "Requirement already satisfied: packaging in /usr/local/lib/python3.10/dist-packages (from tensorflow) (23.1)\n",
            "Requirement already satisfied: protobuf!=4.21.0,!=4.21.1,!=4.21.2,!=4.21.3,!=4.21.4,!=4.21.5,<5.0.0dev,>=3.20.3 in /usr/local/lib/python3.10/dist-packages (from tensorflow) (3.20.3)\n",
            "Requirement already satisfied: setuptools in /usr/local/lib/python3.10/dist-packages (from tensorflow) (67.7.2)\n",
            "Requirement already satisfied: six>=1.12.0 in /usr/local/lib/python3.10/dist-packages (from tensorflow) (1.16.0)\n",
            "Requirement already satisfied: tensorboard<2.13,>=2.12 in /usr/local/lib/python3.10/dist-packages (from tensorflow) (2.12.2)\n",
            "Requirement already satisfied: tensorflow-estimator<2.13,>=2.12.0 in /usr/local/lib/python3.10/dist-packages (from tensorflow) (2.12.0)\n",
            "Requirement already satisfied: termcolor>=1.1.0 in /usr/local/lib/python3.10/dist-packages (from tensorflow) (2.3.0)\n",
            "Requirement already satisfied: typing-extensions>=3.6.6 in /usr/local/lib/python3.10/dist-packages (from tensorflow) (4.5.0)\n",
            "Requirement already satisfied: wrapt<1.15,>=1.11.0 in /usr/local/lib/python3.10/dist-packages (from tensorflow) (1.14.1)\n",
            "Requirement already satisfied: tensorflow-io-gcs-filesystem>=0.23.1 in /usr/local/lib/python3.10/dist-packages (from tensorflow) (0.32.0)\n",
            "Requirement already satisfied: wheel<1.0,>=0.23.0 in /usr/local/lib/python3.10/dist-packages (from astunparse>=1.6.0->tensorflow) (0.40.0)\n",
            "Requirement already satisfied: ml-dtypes>=0.0.3 in /usr/local/lib/python3.10/dist-packages (from jax>=0.3.15->tensorflow) (0.1.0)\n",
            "Requirement already satisfied: scipy>=1.7 in /usr/local/lib/python3.10/dist-packages (from jax>=0.3.15->tensorflow) (1.10.1)\n",
            "Requirement already satisfied: google-auth<3,>=1.6.3 in /usr/local/lib/python3.10/dist-packages (from tensorboard<2.13,>=2.12->tensorflow) (2.17.3)\n",
            "Requirement already satisfied: google-auth-oauthlib<1.1,>=0.5 in /usr/local/lib/python3.10/dist-packages (from tensorboard<2.13,>=2.12->tensorflow) (1.0.0)\n",
            "Requirement already satisfied: markdown>=2.6.8 in /usr/local/lib/python3.10/dist-packages (from tensorboard<2.13,>=2.12->tensorflow) (3.4.3)\n",
            "Requirement already satisfied: requests<3,>=2.21.0 in /usr/local/lib/python3.10/dist-packages (from tensorboard<2.13,>=2.12->tensorflow) (2.27.1)\n",
            "Requirement already satisfied: tensorboard-data-server<0.8.0,>=0.7.0 in /usr/local/lib/python3.10/dist-packages (from tensorboard<2.13,>=2.12->tensorflow) (0.7.0)\n",
            "Requirement already satisfied: tensorboard-plugin-wit>=1.6.0 in /usr/local/lib/python3.10/dist-packages (from tensorboard<2.13,>=2.12->tensorflow) (1.8.1)\n",
            "Requirement already satisfied: werkzeug>=1.0.1 in /usr/local/lib/python3.10/dist-packages (from tensorboard<2.13,>=2.12->tensorflow) (2.3.0)\n",
            "Requirement already satisfied: cachetools<6.0,>=2.0.0 in /usr/local/lib/python3.10/dist-packages (from google-auth<3,>=1.6.3->tensorboard<2.13,>=2.12->tensorflow) (5.3.0)\n",
            "Requirement already satisfied: pyasn1-modules>=0.2.1 in /usr/local/lib/python3.10/dist-packages (from google-auth<3,>=1.6.3->tensorboard<2.13,>=2.12->tensorflow) (0.3.0)\n",
            "Requirement already satisfied: rsa<5,>=3.1.4 in /usr/local/lib/python3.10/dist-packages (from google-auth<3,>=1.6.3->tensorboard<2.13,>=2.12->tensorflow) (4.9)\n",
            "Requirement already satisfied: requests-oauthlib>=0.7.0 in /usr/local/lib/python3.10/dist-packages (from google-auth-oauthlib<1.1,>=0.5->tensorboard<2.13,>=2.12->tensorflow) (1.3.1)\n",
            "Requirement already satisfied: urllib3<1.27,>=1.21.1 in /usr/local/lib/python3.10/dist-packages (from requests<3,>=2.21.0->tensorboard<2.13,>=2.12->tensorflow) (1.26.15)\n",
            "Requirement already satisfied: certifi>=2017.4.17 in /usr/local/lib/python3.10/dist-packages (from requests<3,>=2.21.0->tensorboard<2.13,>=2.12->tensorflow) (2022.12.7)\n",
            "Requirement already satisfied: charset-normalizer~=2.0.0 in /usr/local/lib/python3.10/dist-packages (from requests<3,>=2.21.0->tensorboard<2.13,>=2.12->tensorflow) (2.0.12)\n",
            "Requirement already satisfied: idna<4,>=2.5 in /usr/local/lib/python3.10/dist-packages (from requests<3,>=2.21.0->tensorboard<2.13,>=2.12->tensorflow) (3.4)\n",
            "Requirement already satisfied: MarkupSafe>=2.1.1 in /usr/local/lib/python3.10/dist-packages (from werkzeug>=1.0.1->tensorboard<2.13,>=2.12->tensorflow) (2.1.2)\n",
            "Requirement already satisfied: pyasn1<0.6.0,>=0.4.6 in /usr/local/lib/python3.10/dist-packages (from pyasn1-modules>=0.2.1->google-auth<3,>=1.6.3->tensorboard<2.13,>=2.12->tensorflow) (0.5.0)\n",
            "Requirement already satisfied: oauthlib>=3.0.0 in /usr/local/lib/python3.10/dist-packages (from requests-oauthlib>=0.7.0->google-auth-oauthlib<1.1,>=0.5->tensorboard<2.13,>=2.12->tensorflow) (3.2.2)\n"
          ]
        }
      ]
    },
    {
      "cell_type": "code",
      "execution_count": 78,
      "metadata": {
        "id": "liPy_Sk_W1uK"
      },
      "outputs": [],
      "source": [
        "#Basic packages\n",
        "import numpy as np\n",
        "import pandas as pd\n",
        "import matplotlib.pyplot as plt\n",
        "import math\n",
        "import seaborn as sns\n",
        "import pathlib\n",
        "\n",
        "#Tensorflow\n",
        "import tensorflow as tf\n",
        "\n",
        "#Sklearn\n",
        "from sklearn.model_selection import train_test_split\n",
        "from sklearn.metrics import (accuracy_score, \n",
        "                             f1_score, \n",
        "                             confusion_matrix, \n",
        "                             classification_report,\n",
        "                            ConfusionMatrixDisplay)"
      ]
    },
    {
      "cell_type": "markdown",
      "source": [
        "# I.  Proprocessing Data"
      ],
      "metadata": {
        "id": "JOyPxlAgXLgt"
      }
    },
    {
      "cell_type": "markdown",
      "source": [
        "## 1. Import data and discovery data"
      ],
      "metadata": {
        "id": "oY_3uJ6HXW59"
      }
    },
    {
      "cell_type": "code",
      "source": [
        "data= pd.read_csv('rice_dataset_simplified.csv')\n",
        "data.head()"
      ],
      "metadata": {
        "colab": {
          "base_uri": "https://localhost:8080/",
          "height": 299
        },
        "id": "vkhIbtESXWH6",
        "outputId": "8e364d7f-7f5b-4633-aac9-d41bbf060363"
      },
      "execution_count": 79,
      "outputs": [
        {
          "output_type": "execute_result",
          "data": {
            "text/plain": [
              "   pixel0  pixel1  pixel2  pixel3  pixel4  pixel5  pixel6  pixel7  pixel8  \\\n",
              "0       0       0       0       0       0       0       0       0       0   \n",
              "1       0       0       0       0       0       0       0       0       0   \n",
              "2       0       0       0       0       0       0       0       0       0   \n",
              "3       0       0       0       0       0       0       0       0       0   \n",
              "4       0       0       0       0       0       0       0       0       0   \n",
              "\n",
              "   pixel9  ...  pixel2491  pixel2492  pixel2493  pixel2494  pixel2495  \\\n",
              "0       0  ...          2          2          2          2          2   \n",
              "1       0  ...          2          2          2          2          2   \n",
              "2       0  ...          2          2          2          2          2   \n",
              "3       0  ...          2          2          2          2          2   \n",
              "4       0  ...          2          2          2          2          2   \n",
              "\n",
              "   pixel2496  pixel2497  pixel2498  pixel2499  Rice_type  \n",
              "0          0          0          0          0    Basmati  \n",
              "1          0          0          0          0    Basmati  \n",
              "2          0          0          0          0    Basmati  \n",
              "3          0          0          0          0    Basmati  \n",
              "4          0          0          0          0    Basmati  \n",
              "\n",
              "[5 rows x 2501 columns]"
            ],
            "text/html": [
              "\n",
              "  <div id=\"df-4f0cd146-8cfa-4c06-aa66-ad567144901b\">\n",
              "    <div class=\"colab-df-container\">\n",
              "      <div>\n",
              "<style scoped>\n",
              "    .dataframe tbody tr th:only-of-type {\n",
              "        vertical-align: middle;\n",
              "    }\n",
              "\n",
              "    .dataframe tbody tr th {\n",
              "        vertical-align: top;\n",
              "    }\n",
              "\n",
              "    .dataframe thead th {\n",
              "        text-align: right;\n",
              "    }\n",
              "</style>\n",
              "<table border=\"1\" class=\"dataframe\">\n",
              "  <thead>\n",
              "    <tr style=\"text-align: right;\">\n",
              "      <th></th>\n",
              "      <th>pixel0</th>\n",
              "      <th>pixel1</th>\n",
              "      <th>pixel2</th>\n",
              "      <th>pixel3</th>\n",
              "      <th>pixel4</th>\n",
              "      <th>pixel5</th>\n",
              "      <th>pixel6</th>\n",
              "      <th>pixel7</th>\n",
              "      <th>pixel8</th>\n",
              "      <th>pixel9</th>\n",
              "      <th>...</th>\n",
              "      <th>pixel2491</th>\n",
              "      <th>pixel2492</th>\n",
              "      <th>pixel2493</th>\n",
              "      <th>pixel2494</th>\n",
              "      <th>pixel2495</th>\n",
              "      <th>pixel2496</th>\n",
              "      <th>pixel2497</th>\n",
              "      <th>pixel2498</th>\n",
              "      <th>pixel2499</th>\n",
              "      <th>Rice_type</th>\n",
              "    </tr>\n",
              "  </thead>\n",
              "  <tbody>\n",
              "    <tr>\n",
              "      <th>0</th>\n",
              "      <td>0</td>\n",
              "      <td>0</td>\n",
              "      <td>0</td>\n",
              "      <td>0</td>\n",
              "      <td>0</td>\n",
              "      <td>0</td>\n",
              "      <td>0</td>\n",
              "      <td>0</td>\n",
              "      <td>0</td>\n",
              "      <td>0</td>\n",
              "      <td>...</td>\n",
              "      <td>2</td>\n",
              "      <td>2</td>\n",
              "      <td>2</td>\n",
              "      <td>2</td>\n",
              "      <td>2</td>\n",
              "      <td>0</td>\n",
              "      <td>0</td>\n",
              "      <td>0</td>\n",
              "      <td>0</td>\n",
              "      <td>Basmati</td>\n",
              "    </tr>\n",
              "    <tr>\n",
              "      <th>1</th>\n",
              "      <td>0</td>\n",
              "      <td>0</td>\n",
              "      <td>0</td>\n",
              "      <td>0</td>\n",
              "      <td>0</td>\n",
              "      <td>0</td>\n",
              "      <td>0</td>\n",
              "      <td>0</td>\n",
              "      <td>0</td>\n",
              "      <td>0</td>\n",
              "      <td>...</td>\n",
              "      <td>2</td>\n",
              "      <td>2</td>\n",
              "      <td>2</td>\n",
              "      <td>2</td>\n",
              "      <td>2</td>\n",
              "      <td>0</td>\n",
              "      <td>0</td>\n",
              "      <td>0</td>\n",
              "      <td>0</td>\n",
              "      <td>Basmati</td>\n",
              "    </tr>\n",
              "    <tr>\n",
              "      <th>2</th>\n",
              "      <td>0</td>\n",
              "      <td>0</td>\n",
              "      <td>0</td>\n",
              "      <td>0</td>\n",
              "      <td>0</td>\n",
              "      <td>0</td>\n",
              "      <td>0</td>\n",
              "      <td>0</td>\n",
              "      <td>0</td>\n",
              "      <td>0</td>\n",
              "      <td>...</td>\n",
              "      <td>2</td>\n",
              "      <td>2</td>\n",
              "      <td>2</td>\n",
              "      <td>2</td>\n",
              "      <td>2</td>\n",
              "      <td>0</td>\n",
              "      <td>0</td>\n",
              "      <td>0</td>\n",
              "      <td>0</td>\n",
              "      <td>Basmati</td>\n",
              "    </tr>\n",
              "    <tr>\n",
              "      <th>3</th>\n",
              "      <td>0</td>\n",
              "      <td>0</td>\n",
              "      <td>0</td>\n",
              "      <td>0</td>\n",
              "      <td>0</td>\n",
              "      <td>0</td>\n",
              "      <td>0</td>\n",
              "      <td>0</td>\n",
              "      <td>0</td>\n",
              "      <td>0</td>\n",
              "      <td>...</td>\n",
              "      <td>2</td>\n",
              "      <td>2</td>\n",
              "      <td>2</td>\n",
              "      <td>2</td>\n",
              "      <td>2</td>\n",
              "      <td>0</td>\n",
              "      <td>0</td>\n",
              "      <td>0</td>\n",
              "      <td>0</td>\n",
              "      <td>Basmati</td>\n",
              "    </tr>\n",
              "    <tr>\n",
              "      <th>4</th>\n",
              "      <td>0</td>\n",
              "      <td>0</td>\n",
              "      <td>0</td>\n",
              "      <td>0</td>\n",
              "      <td>0</td>\n",
              "      <td>0</td>\n",
              "      <td>0</td>\n",
              "      <td>0</td>\n",
              "      <td>0</td>\n",
              "      <td>0</td>\n",
              "      <td>...</td>\n",
              "      <td>2</td>\n",
              "      <td>2</td>\n",
              "      <td>2</td>\n",
              "      <td>2</td>\n",
              "      <td>2</td>\n",
              "      <td>0</td>\n",
              "      <td>0</td>\n",
              "      <td>0</td>\n",
              "      <td>0</td>\n",
              "      <td>Basmati</td>\n",
              "    </tr>\n",
              "  </tbody>\n",
              "</table>\n",
              "<p>5 rows × 2501 columns</p>\n",
              "</div>\n",
              "      <button class=\"colab-df-convert\" onclick=\"convertToInteractive('df-4f0cd146-8cfa-4c06-aa66-ad567144901b')\"\n",
              "              title=\"Convert this dataframe to an interactive table.\"\n",
              "              style=\"display:none;\">\n",
              "        \n",
              "  <svg xmlns=\"http://www.w3.org/2000/svg\" height=\"24px\"viewBox=\"0 0 24 24\"\n",
              "       width=\"24px\">\n",
              "    <path d=\"M0 0h24v24H0V0z\" fill=\"none\"/>\n",
              "    <path d=\"M18.56 5.44l.94 2.06.94-2.06 2.06-.94-2.06-.94-.94-2.06-.94 2.06-2.06.94zm-11 1L8.5 8.5l.94-2.06 2.06-.94-2.06-.94L8.5 2.5l-.94 2.06-2.06.94zm10 10l.94 2.06.94-2.06 2.06-.94-2.06-.94-.94-2.06-.94 2.06-2.06.94z\"/><path d=\"M17.41 7.96l-1.37-1.37c-.4-.4-.92-.59-1.43-.59-.52 0-1.04.2-1.43.59L10.3 9.45l-7.72 7.72c-.78.78-.78 2.05 0 2.83L4 21.41c.39.39.9.59 1.41.59.51 0 1.02-.2 1.41-.59l7.78-7.78 2.81-2.81c.8-.78.8-2.07 0-2.86zM5.41 20L4 18.59l7.72-7.72 1.47 1.35L5.41 20z\"/>\n",
              "  </svg>\n",
              "      </button>\n",
              "      \n",
              "  <style>\n",
              "    .colab-df-container {\n",
              "      display:flex;\n",
              "      flex-wrap:wrap;\n",
              "      gap: 12px;\n",
              "    }\n",
              "\n",
              "    .colab-df-convert {\n",
              "      background-color: #E8F0FE;\n",
              "      border: none;\n",
              "      border-radius: 50%;\n",
              "      cursor: pointer;\n",
              "      display: none;\n",
              "      fill: #1967D2;\n",
              "      height: 32px;\n",
              "      padding: 0 0 0 0;\n",
              "      width: 32px;\n",
              "    }\n",
              "\n",
              "    .colab-df-convert:hover {\n",
              "      background-color: #E2EBFA;\n",
              "      box-shadow: 0px 1px 2px rgba(60, 64, 67, 0.3), 0px 1px 3px 1px rgba(60, 64, 67, 0.15);\n",
              "      fill: #174EA6;\n",
              "    }\n",
              "\n",
              "    [theme=dark] .colab-df-convert {\n",
              "      background-color: #3B4455;\n",
              "      fill: #D2E3FC;\n",
              "    }\n",
              "\n",
              "    [theme=dark] .colab-df-convert:hover {\n",
              "      background-color: #434B5C;\n",
              "      box-shadow: 0px 1px 3px 1px rgba(0, 0, 0, 0.15);\n",
              "      filter: drop-shadow(0px 1px 2px rgba(0, 0, 0, 0.3));\n",
              "      fill: #FFFFFF;\n",
              "    }\n",
              "  </style>\n",
              "\n",
              "      <script>\n",
              "        const buttonEl =\n",
              "          document.querySelector('#df-4f0cd146-8cfa-4c06-aa66-ad567144901b button.colab-df-convert');\n",
              "        buttonEl.style.display =\n",
              "          google.colab.kernel.accessAllowed ? 'block' : 'none';\n",
              "\n",
              "        async function convertToInteractive(key) {\n",
              "          const element = document.querySelector('#df-4f0cd146-8cfa-4c06-aa66-ad567144901b');\n",
              "          const dataTable =\n",
              "            await google.colab.kernel.invokeFunction('convertToInteractive',\n",
              "                                                     [key], {});\n",
              "          if (!dataTable) return;\n",
              "\n",
              "          const docLinkHtml = 'Like what you see? Visit the ' +\n",
              "            '<a target=\"_blank\" href=https://colab.research.google.com/notebooks/data_table.ipynb>data table notebook</a>'\n",
              "            + ' to learn more about interactive tables.';\n",
              "          element.innerHTML = '';\n",
              "          dataTable['output_type'] = 'display_data';\n",
              "          await google.colab.output.renderOutput(dataTable, element);\n",
              "          const docLink = document.createElement('div');\n",
              "          docLink.innerHTML = docLinkHtml;\n",
              "          element.appendChild(docLink);\n",
              "        }\n",
              "      </script>\n",
              "    </div>\n",
              "  </div>\n",
              "  "
            ]
          },
          "metadata": {},
          "execution_count": 79
        }
      ]
    },
    {
      "cell_type": "markdown",
      "source": [
        "**Null value check in dataset.**"
      ],
      "metadata": {
        "id": "ijeG8gFVa8SB"
      }
    },
    {
      "cell_type": "code",
      "source": [
        "sum(data.isna().sum())"
      ],
      "metadata": {
        "colab": {
          "base_uri": "https://localhost:8080/"
        },
        "id": "C-QgsivybC52",
        "outputId": "a0414a15-95a1-47f7-8bef-f5b3f877f0bb"
      },
      "execution_count": 80,
      "outputs": [
        {
          "output_type": "execute_result",
          "data": {
            "text/plain": [
              "0"
            ]
          },
          "metadata": {},
          "execution_count": 80
        }
      ]
    },
    {
      "cell_type": "markdown",
      "source": [
        "**Comment on dataset: This data set have any null value**"
      ],
      "metadata": {
        "id": "vLZnUXJwbLmO"
      }
    },
    {
      "cell_type": "markdown",
      "source": [
        "**Check dataset have any duplicate:**"
      ],
      "metadata": {
        "id": "cKcmOPqgbzLv"
      }
    },
    {
      "cell_type": "code",
      "source": [
        "data.duplicated().sum()"
      ],
      "metadata": {
        "colab": {
          "base_uri": "https://localhost:8080/"
        },
        "id": "x-EKw6sEbg8h",
        "outputId": "3d60ce0f-c270-4e11-e4d0-604b020bca6b"
      },
      "execution_count": 81,
      "outputs": [
        {
          "output_type": "execute_result",
          "data": {
            "text/plain": [
              "0"
            ]
          },
          "metadata": {},
          "execution_count": 81
        }
      ]
    },
    {
      "cell_type": "markdown",
      "source": [
        "**Comment on dataset: This data set doesn't have duplicates**"
      ],
      "metadata": {
        "id": "ybsnHcXZb9oE"
      }
    },
    {
      "cell_type": "markdown",
      "source": [
        "**Label Check.**"
      ],
      "metadata": {
        "id": "NgFksZF0cISa"
      }
    },
    {
      "cell_type": "code",
      "source": [
        "data['Rice_type'].value_counts()"
      ],
      "metadata": {
        "colab": {
          "base_uri": "https://localhost:8080/"
        },
        "id": "_oCran2XcQWT",
        "outputId": "52fb6094-700c-43bd-92f3-67474c3895fe"
      },
      "execution_count": 82,
      "outputs": [
        {
          "output_type": "execute_result",
          "data": {
            "text/plain": [
              "Basmati      1000\n",
              "Arborio      1000\n",
              "Ipsala       1000\n",
              "Jasmine      1000\n",
              "Karacadag    1000\n",
              "Name: Rice_type, dtype: int64"
            ]
          },
          "metadata": {},
          "execution_count": 82
        }
      ]
    },
    {
      "cell_type": "markdown",
      "source": [
        "**Comment on dataset: the target of this dataset is equally splitted**"
      ],
      "metadata": {
        "id": "UtGIVle1cV8p"
      }
    },
    {
      "cell_type": "markdown",
      "source": [
        "**Check Features outliers:**"
      ],
      "metadata": {
        "id": "bWb6WaPzce9N"
      }
    },
    {
      "cell_type": "code",
      "source": [
        "\n",
        "if ((data.iloc[:, :-1] > 255).any == True):\n",
        "    print('Outlier')\n",
        "else:\n",
        "    print(\"Dataset doesn't have outlier\")"
      ],
      "metadata": {
        "colab": {
          "base_uri": "https://localhost:8080/"
        },
        "id": "SgigL5MWcefz",
        "outputId": "2b65166d-3a6c-4d49-c1a5-82bb6bab45be"
      },
      "execution_count": 83,
      "outputs": [
        {
          "output_type": "stream",
          "name": "stdout",
          "text": [
            "Dataset doesn't have outlier\n"
          ]
        }
      ]
    },
    {
      "cell_type": "markdown",
      "source": [
        "## 2.Preview Image"
      ],
      "metadata": {
        "id": "RBmHo54rc1M7"
      }
    },
    {
      "cell_type": "code",
      "source": [
        "# Preview these five kinds of rices.\n",
        "fig, axs = plt.subplots(1, 5, figsize=(20, 5))\n",
        "fig.suptitle('Rice types', fontsize=20)\n",
        "types_rice = ['Basmati', 'Arborio', 'Karacadag', 'Jasmine', \"Ipsala\"]\n",
        "\n",
        "for ax, label in zip(axs.flatten(), types_rice):\n",
        "    img = data[data['Rice_type'] == label].iloc[0, :-1].to_numpy().astype(np.int64)\n",
        "    ax.imshow(img.reshape(50, 50), cmap='gray')\n",
        "    ax.set_title(label, fontsize=20)\n",
        "    ax.axis('off')\n",
        "\n",
        "plt.show()"
      ],
      "metadata": {
        "colab": {
          "base_uri": "https://localhost:8080/",
          "height": 298
        },
        "id": "8Gmy_smBc6xb",
        "outputId": "96554546-3a71-4147-940a-772e109cc392"
      },
      "execution_count": 84,
      "outputs": [
        {
          "output_type": "display_data",
          "data": {
            "text/plain": [
              "<Figure size 2000x500 with 5 Axes>"
            ],
            "image/png": "[encoded data removed]"
          },
          "metadata": {}
        }
      ]
    },
    {
      "cell_type": "markdown",
      "source": [
        "## 3 Processing\n"
      ],
      "metadata": {
        "id": "jpBACc-ffzNd"
      }
    },
    {
      "cell_type": "markdown",
      "source": [
        "### Label Processing"
      ],
      "metadata": {
        "id": "3W_PIVI3gvQP"
      }
    },
    {
      "cell_type": "code",
      "source": [
        "data['Rice_type'].value_counts()"
      ],
      "metadata": {
        "colab": {
          "base_uri": "https://localhost:8080/"
        },
        "id": "E4iia6XegqDr",
        "outputId": "dbe4236a-701f-46ab-adc2-6a7f6a34a2c6"
      },
      "execution_count": 85,
      "outputs": [
        {
          "output_type": "execute_result",
          "data": {
            "text/plain": [
              "Basmati      1000\n",
              "Arborio      1000\n",
              "Ipsala       1000\n",
              "Jasmine      1000\n",
              "Karacadag    1000\n",
              "Name: Rice_type, dtype: int64"
            ]
          },
          "metadata": {},
          "execution_count": 85
        }
      ]
    },
    {
      "cell_type": "markdown",
      "source": [
        "As this is a **classification**, we decide to replace the label of the dataset into numbers."
      ],
      "metadata": {
        "id": "J6O3GZZQideu"
      }
    },
    {
      "cell_type": "code",
      "source": [
        "data['Rice_type'] = data['Rice_type'].replace({\n",
        "    'Basmati': 0,\n",
        "    \"Arborio\": 1,\n",
        "    \"Karacadag\": 2,\n",
        "    \"Jasmine\": 3,\n",
        "    \"Ipsala\": 4\n",
        "})\n",
        "data.head()"
      ],
      "metadata": {
        "colab": {
          "base_uri": "https://localhost:8080/",
          "height": 299
        },
        "id": "OkQk1GjkiCtl",
        "outputId": "984787ec-56cb-406a-8b78-1b51a132a849"
      },
      "execution_count": 86,
      "outputs": [
        {
          "output_type": "execute_result",
          "data": {
            "text/plain": [
              "   pixel0  pixel1  pixel2  pixel3  pixel4  pixel5  pixel6  pixel7  pixel8  \\\n",
              "0       0       0       0       0       0       0       0       0       0   \n",
              "1       0       0       0       0       0       0       0       0       0   \n",
              "2       0       0       0       0       0       0       0       0       0   \n",
              "3       0       0       0       0       0       0       0       0       0   \n",
              "4       0       0       0       0       0       0       0       0       0   \n",
              "\n",
              "   pixel9  ...  pixel2491  pixel2492  pixel2493  pixel2494  pixel2495  \\\n",
              "0       0  ...          2          2          2          2          2   \n",
              "1       0  ...          2          2          2          2          2   \n",
              "2       0  ...          2          2          2          2          2   \n",
              "3       0  ...          2          2          2          2          2   \n",
              "4       0  ...          2          2          2          2          2   \n",
              "\n",
              "   pixel2496  pixel2497  pixel2498  pixel2499  Rice_type  \n",
              "0          0          0          0          0          0  \n",
              "1          0          0          0          0          0  \n",
              "2          0          0          0          0          0  \n",
              "3          0          0          0          0          0  \n",
              "4          0          0          0          0          0  \n",
              "\n",
              "[5 rows x 2501 columns]"
            ],
            "text/html": [
              "\n",
              "  <div id=\"df-51ed1d78-b4b2-4e6f-bf15-d4f17ece155f\">\n",
              "    <div class=\"colab-df-container\">\n",
              "      <div>\n",
              "<style scoped>\n",
              "    .dataframe tbody tr th:only-of-type {\n",
              "        vertical-align: middle;\n",
              "    }\n",
              "\n",
              "    .dataframe tbody tr th {\n",
              "        vertical-align: top;\n",
              "    }\n",
              "\n",
              "    .dataframe thead th {\n",
              "        text-align: right;\n",
              "    }\n",
              "</style>\n",
              "<table border=\"1\" class=\"dataframe\">\n",
              "  <thead>\n",
              "    <tr style=\"text-align: right;\">\n",
              "      <th></th>\n",
              "      <th>pixel0</th>\n",
              "      <th>pixel1</th>\n",
              "      <th>pixel2</th>\n",
              "      <th>pixel3</th>\n",
              "      <th>pixel4</th>\n",
              "      <th>pixel5</th>\n",
              "      <th>pixel6</th>\n",
              "      <th>pixel7</th>\n",
              "      <th>pixel8</th>\n",
              "      <th>pixel9</th>\n",
              "      <th>...</th>\n",
              "      <th>pixel2491</th>\n",
              "      <th>pixel2492</th>\n",
              "      <th>pixel2493</th>\n",
              "      <th>pixel2494</th>\n",
              "      <th>pixel2495</th>\n",
              "      <th>pixel2496</th>\n",
              "      <th>pixel2497</th>\n",
              "      <th>pixel2498</th>\n",
              "      <th>pixel2499</th>\n",
              "      <th>Rice_type</th>\n",
              "    </tr>\n",
              "  </thead>\n",
              "  <tbody>\n",
              "    <tr>\n",
              "      <th>0</th>\n",
              "      <td>0</td>\n",
              "      <td>0</td>\n",
              "      <td>0</td>\n",
              "      <td>0</td>\n",
              "      <td>0</td>\n",
              "      <td>0</td>\n",
              "      <td>0</td>\n",
              "      <td>0</td>\n",
              "      <td>0</td>\n",
              "      <td>0</td>\n",
              "      <td>...</td>\n",
              "      <td>2</td>\n",
              "      <td>2</td>\n",
              "      <td>2</td>\n",
              "      <td>2</td>\n",
              "      <td>2</td>\n",
              "      <td>0</td>\n",
              "      <td>0</td>\n",
              "      <td>0</td>\n",
              "      <td>0</td>\n",
              "      <td>0</td>\n",
              "    </tr>\n",
              "    <tr>\n",
              "      <th>1</th>\n",
              "      <td>0</td>\n",
              "      <td>0</td>\n",
              "      <td>0</td>\n",
              "      <td>0</td>\n",
              "      <td>0</td>\n",
              "      <td>0</td>\n",
              "      <td>0</td>\n",
              "      <td>0</td>\n",
              "      <td>0</td>\n",
              "      <td>0</td>\n",
              "      <td>...</td>\n",
              "      <td>2</td>\n",
              "      <td>2</td>\n",
              "      <td>2</td>\n",
              "      <td>2</td>\n",
              "      <td>2</td>\n",
              "      <td>0</td>\n",
              "      <td>0</td>\n",
              "      <td>0</td>\n",
              "      <td>0</td>\n",
              "      <td>0</td>\n",
              "    </tr>\n",
              "    <tr>\n",
              "      <th>2</th>\n",
              "      <td>0</td>\n",
              "      <td>0</td>\n",
              "      <td>0</td>\n",
              "      <td>0</td>\n",
              "      <td>0</td>\n",
              "      <td>0</td>\n",
              "      <td>0</td>\n",
              "      <td>0</td>\n",
              "      <td>0</td>\n",
              "      <td>0</td>\n",
              "      <td>...</td>\n",
              "      <td>2</td>\n",
              "      <td>2</td>\n",
              "      <td>2</td>\n",
              "      <td>2</td>\n",
              "      <td>2</td>\n",
              "      <td>0</td>\n",
              "      <td>0</td>\n",
              "      <td>0</td>\n",
              "      <td>0</td>\n",
              "      <td>0</td>\n",
              "    </tr>\n",
              "    <tr>\n",
              "      <th>3</th>\n",
              "      <td>0</td>\n",
              "      <td>0</td>\n",
              "      <td>0</td>\n",
              "      <td>0</td>\n",
              "      <td>0</td>\n",
              "      <td>0</td>\n",
              "      <td>0</td>\n",
              "      <td>0</td>\n",
              "      <td>0</td>\n",
              "      <td>0</td>\n",
              "      <td>...</td>\n",
              "      <td>2</td>\n",
              "      <td>2</td>\n",
              "      <td>2</td>\n",
              "      <td>2</td>\n",
              "      <td>2</td>\n",
              "      <td>0</td>\n",
              "      <td>0</td>\n",
              "      <td>0</td>\n",
              "      <td>0</td>\n",
              "      <td>0</td>\n",
              "    </tr>\n",
              "    <tr>\n",
              "      <th>4</th>\n",
              "      <td>0</td>\n",
              "      <td>0</td>\n",
              "      <td>0</td>\n",
              "      <td>0</td>\n",
              "      <td>0</td>\n",
              "      <td>0</td>\n",
              "      <td>0</td>\n",
              "      <td>0</td>\n",
              "      <td>0</td>\n",
              "      <td>0</td>\n",
              "      <td>...</td>\n",
              "      <td>2</td>\n",
              "      <td>2</td>\n",
              "      <td>2</td>\n",
              "      <td>2</td>\n",
              "      <td>2</td>\n",
              "      <td>0</td>\n",
              "      <td>0</td>\n",
              "      <td>0</td>\n",
              "      <td>0</td>\n",
              "      <td>0</td>\n",
              "    </tr>\n",
              "  </tbody>\n",
              "</table>\n",
              "<p>5 rows × 2501 columns</p>\n",
              "</div>\n",
              "      <button class=\"colab-df-convert\" onclick=\"convertToInteractive('df-51ed1d78-b4b2-4e6f-bf15-d4f17ece155f')\"\n",
              "              title=\"Convert this dataframe to an interactive table.\"\n",
              "              style=\"display:none;\">\n",
              "        \n",
              "  <svg xmlns=\"http://www.w3.org/2000/svg\" height=\"24px\"viewBox=\"0 0 24 24\"\n",
              "       width=\"24px\">\n",
              "    <path d=\"M0 0h24v24H0V0z\" fill=\"none\"/>\n",
              "    <path d=\"M18.56 5.44l.94 2.06.94-2.06 2.06-.94-2.06-.94-.94-2.06-.94 2.06-2.06.94zm-11 1L8.5 8.5l.94-2.06 2.06-.94-2.06-.94L8.5 2.5l-.94 2.06-2.06.94zm10 10l.94 2.06.94-2.06 2.06-.94-2.06-.94-.94-2.06-.94 2.06-2.06.94z\"/><path d=\"M17.41 7.96l-1.37-1.37c-.4-.4-.92-.59-1.43-.59-.52 0-1.04.2-1.43.59L10.3 9.45l-7.72 7.72c-.78.78-.78 2.05 0 2.83L4 21.41c.39.39.9.59 1.41.59.51 0 1.02-.2 1.41-.59l7.78-7.78 2.81-2.81c.8-.78.8-2.07 0-2.86zM5.41 20L4 18.59l7.72-7.72 1.47 1.35L5.41 20z\"/>\n",
              "  </svg>\n",
              "      </button>\n",
              "      \n",
              "  <style>\n",
              "    .colab-df-container {\n",
              "      display:flex;\n",
              "      flex-wrap:wrap;\n",
              "      gap: 12px;\n",
              "    }\n",
              "\n",
              "    .colab-df-convert {\n",
              "      background-color: #E8F0FE;\n",
              "      border: none;\n",
              "      border-radius: 50%;\n",
              "      cursor: pointer;\n",
              "      display: none;\n",
              "      fill: #1967D2;\n",
              "      height: 32px;\n",
              "      padding: 0 0 0 0;\n",
              "      width: 32px;\n",
              "    }\n",
              "\n",
              "    .colab-df-convert:hover {\n",
              "      background-color: #E2EBFA;\n",
              "      box-shadow: 0px 1px 2px rgba(60, 64, 67, 0.3), 0px 1px 3px 1px rgba(60, 64, 67, 0.15);\n",
              "      fill: #174EA6;\n",
              "    }\n",
              "\n",
              "    [theme=dark] .colab-df-convert {\n",
              "      background-color: #3B4455;\n",
              "      fill: #D2E3FC;\n",
              "    }\n",
              "\n",
              "    [theme=dark] .colab-df-convert:hover {\n",
              "      background-color: #434B5C;\n",
              "      box-shadow: 0px 1px 3px 1px rgba(0, 0, 0, 0.15);\n",
              "      filter: drop-shadow(0px 1px 2px rgba(0, 0, 0, 0.3));\n",
              "      fill: #FFFFFF;\n",
              "    }\n",
              "  </style>\n",
              "\n",
              "      <script>\n",
              "        const buttonEl =\n",
              "          document.querySelector('#df-51ed1d78-b4b2-4e6f-bf15-d4f17ece155f button.colab-df-convert');\n",
              "        buttonEl.style.display =\n",
              "          google.colab.kernel.accessAllowed ? 'block' : 'none';\n",
              "\n",
              "        async function convertToInteractive(key) {\n",
              "          const element = document.querySelector('#df-51ed1d78-b4b2-4e6f-bf15-d4f17ece155f');\n",
              "          const dataTable =\n",
              "            await google.colab.kernel.invokeFunction('convertToInteractive',\n",
              "                                                     [key], {});\n",
              "          if (!dataTable) return;\n",
              "\n",
              "          const docLinkHtml = 'Like what you see? Visit the ' +\n",
              "            '<a target=\"_blank\" href=https://colab.research.google.com/notebooks/data_table.ipynb>data table notebook</a>'\n",
              "            + ' to learn more about interactive tables.';\n",
              "          element.innerHTML = '';\n",
              "          dataTable['output_type'] = 'display_data';\n",
              "          await google.colab.output.renderOutput(dataTable, element);\n",
              "          const docLink = document.createElement('div');\n",
              "          docLink.innerHTML = docLinkHtml;\n",
              "          element.appendChild(docLink);\n",
              "        }\n",
              "      </script>\n",
              "    </div>\n",
              "  </div>\n",
              "  "
            ]
          },
          "metadata": {},
          "execution_count": 86
        }
      ]
    },
    {
      "cell_type": "markdown",
      "source": [
        "### Features processing"
      ],
      "metadata": {
        "id": "4AdNuBF-ixRx"
      }
    },
    {
      "cell_type": "markdown",
      "source": [
        "As all features are pixels in the **50x50** images and this dataset does not has any outliers - we decide to divide all values by 255 to do the **normalization process** to all pixel values."
      ],
      "metadata": {
        "id": "DTvCnxHBirXN"
      }
    },
    {
      "cell_type": "code",
      "source": [
        "data.iloc[:, :-1] = data.iloc[:, :-1] / 255\n",
        "data.head()"
      ],
      "metadata": {
        "colab": {
          "base_uri": "https://localhost:8080/",
          "height": 336
        },
        "id": "qkCQt3PSiTAT",
        "outputId": "0dc308b5-fc23-4741-ad6a-9029df916ebc"
      },
      "execution_count": 87,
      "outputs": [
        {
          "output_type": "stream",
          "name": "stderr",
          "text": [
            "<ipython-input-87-a13f3c1c5fd0>:1: DeprecationWarning: In a future version, `df.iloc[:, i] = newvals` will attempt to set the values inplace instead of always setting a new array. To retain the old behavior, use either `df[df.columns[i]] = newvals` or, if columns are non-unique, `df.isetitem(i, newvals)`\n",
            "  data.iloc[:, :-1] = data.iloc[:, :-1] / 255\n"
          ]
        },
        {
          "output_type": "execute_result",
          "data": {
            "text/plain": [
              "   pixel0  pixel1  pixel2  pixel3  pixel4  pixel5  pixel6  pixel7  pixel8  \\\n",
              "0     0.0     0.0     0.0     0.0     0.0     0.0     0.0     0.0     0.0   \n",
              "1     0.0     0.0     0.0     0.0     0.0     0.0     0.0     0.0     0.0   \n",
              "2     0.0     0.0     0.0     0.0     0.0     0.0     0.0     0.0     0.0   \n",
              "3     0.0     0.0     0.0     0.0     0.0     0.0     0.0     0.0     0.0   \n",
              "4     0.0     0.0     0.0     0.0     0.0     0.0     0.0     0.0     0.0   \n",
              "\n",
              "   pixel9  ...  pixel2491  pixel2492  pixel2493  pixel2494  pixel2495  \\\n",
              "0     0.0  ...   0.007843   0.007843   0.007843   0.007843   0.007843   \n",
              "1     0.0  ...   0.007843   0.007843   0.007843   0.007843   0.007843   \n",
              "2     0.0  ...   0.007843   0.007843   0.007843   0.007843   0.007843   \n",
              "3     0.0  ...   0.007843   0.007843   0.007843   0.007843   0.007843   \n",
              "4     0.0  ...   0.007843   0.007843   0.007843   0.007843   0.007843   \n",
              "\n",
              "   pixel2496  pixel2497  pixel2498  pixel2499  Rice_type  \n",
              "0        0.0        0.0        0.0        0.0          0  \n",
              "1        0.0        0.0        0.0        0.0          0  \n",
              "2        0.0        0.0        0.0        0.0          0  \n",
              "3        0.0        0.0        0.0        0.0          0  \n",
              "4        0.0        0.0        0.0        0.0          0  \n",
              "\n",
              "[5 rows x 2501 columns]"
            ],
            "text/html": [
              "\n",
              "  <div id=\"df-001decc9-dd43-4094-a084-1f26c81611d7\">\n",
              "    <div class=\"colab-df-container\">\n",
              "      <div>\n",
              "<style scoped>\n",
              "    .dataframe tbody tr th:only-of-type {\n",
              "        vertical-align: middle;\n",
              "    }\n",
              "\n",
              "    .dataframe tbody tr th {\n",
              "        vertical-align: top;\n",
              "    }\n",
              "\n",
              "    .dataframe thead th {\n",
              "        text-align: right;\n",
              "    }\n",
              "</style>\n",
              "<table border=\"1\" class=\"dataframe\">\n",
              "  <thead>\n",
              "    <tr style=\"text-align: right;\">\n",
              "      <th></th>\n",
              "      <th>pixel0</th>\n",
              "      <th>pixel1</th>\n",
              "      <th>pixel2</th>\n",
              "      <th>pixel3</th>\n",
              "      <th>pixel4</th>\n",
              "      <th>pixel5</th>\n",
              "      <th>pixel6</th>\n",
              "      <th>pixel7</th>\n",
              "      <th>pixel8</th>\n",
              "      <th>pixel9</th>\n",
              "      <th>...</th>\n",
              "      <th>pixel2491</th>\n",
              "      <th>pixel2492</th>\n",
              "      <th>pixel2493</th>\n",
              "      <th>pixel2494</th>\n",
              "      <th>pixel2495</th>\n",
              "      <th>pixel2496</th>\n",
              "      <th>pixel2497</th>\n",
              "      <th>pixel2498</th>\n",
              "      <th>pixel2499</th>\n",
              "      <th>Rice_type</th>\n",
              "    </tr>\n",
              "  </thead>\n",
              "  <tbody>\n",
              "    <tr>\n",
              "      <th>0</th>\n",
              "      <td>0.0</td>\n",
              "      <td>0.0</td>\n",
              "      <td>0.0</td>\n",
              "      <td>0.0</td>\n",
              "      <td>0.0</td>\n",
              "      <td>0.0</td>\n",
              "      <td>0.0</td>\n",
              "      <td>0.0</td>\n",
              "      <td>0.0</td>\n",
              "      <td>0.0</td>\n",
              "      <td>...</td>\n",
              "      <td>0.007843</td>\n",
              "      <td>0.007843</td>\n",
              "      <td>0.007843</td>\n",
              "      <td>0.007843</td>\n",
              "      <td>0.007843</td>\n",
              "      <td>0.0</td>\n",
              "      <td>0.0</td>\n",
              "      <td>0.0</td>\n",
              "      <td>0.0</td>\n",
              "      <td>0</td>\n",
              "    </tr>\n",
              "    <tr>\n",
              "      <th>1</th>\n",
              "      <td>0.0</td>\n",
              "      <td>0.0</td>\n",
              "      <td>0.0</td>\n",
              "      <td>0.0</td>\n",
              "      <td>0.0</td>\n",
              "      <td>0.0</td>\n",
              "      <td>0.0</td>\n",
              "      <td>0.0</td>\n",
              "      <td>0.0</td>\n",
              "      <td>0.0</td>\n",
              "      <td>...</td>\n",
              "      <td>0.007843</td>\n",
              "      <td>0.007843</td>\n",
              "      <td>0.007843</td>\n",
              "      <td>0.007843</td>\n",
              "      <td>0.007843</td>\n",
              "      <td>0.0</td>\n",
              "      <td>0.0</td>\n",
              "      <td>0.0</td>\n",
              "      <td>0.0</td>\n",
              "      <td>0</td>\n",
              "    </tr>\n",
              "    <tr>\n",
              "      <th>2</th>\n",
              "      <td>0.0</td>\n",
              "      <td>0.0</td>\n",
              "      <td>0.0</td>\n",
              "      <td>0.0</td>\n",
              "      <td>0.0</td>\n",
              "      <td>0.0</td>\n",
              "      <td>0.0</td>\n",
              "      <td>0.0</td>\n",
              "      <td>0.0</td>\n",
              "      <td>0.0</td>\n",
              "      <td>...</td>\n",
              "      <td>0.007843</td>\n",
              "      <td>0.007843</td>\n",
              "      <td>0.007843</td>\n",
              "      <td>0.007843</td>\n",
              "      <td>0.007843</td>\n",
              "      <td>0.0</td>\n",
              "      <td>0.0</td>\n",
              "      <td>0.0</td>\n",
              "      <td>0.0</td>\n",
              "      <td>0</td>\n",
              "    </tr>\n",
              "    <tr>\n",
              "      <th>3</th>\n",
              "      <td>0.0</td>\n",
              "      <td>0.0</td>\n",
              "      <td>0.0</td>\n",
              "      <td>0.0</td>\n",
              "      <td>0.0</td>\n",
              "      <td>0.0</td>\n",
              "      <td>0.0</td>\n",
              "      <td>0.0</td>\n",
              "      <td>0.0</td>\n",
              "      <td>0.0</td>\n",
              "      <td>...</td>\n",
              "      <td>0.007843</td>\n",
              "      <td>0.007843</td>\n",
              "      <td>0.007843</td>\n",
              "      <td>0.007843</td>\n",
              "      <td>0.007843</td>\n",
              "      <td>0.0</td>\n",
              "      <td>0.0</td>\n",
              "      <td>0.0</td>\n",
              "      <td>0.0</td>\n",
              "      <td>0</td>\n",
              "    </tr>\n",
              "    <tr>\n",
              "      <th>4</th>\n",
              "      <td>0.0</td>\n",
              "      <td>0.0</td>\n",
              "      <td>0.0</td>\n",
              "      <td>0.0</td>\n",
              "      <td>0.0</td>\n",
              "      <td>0.0</td>\n",
              "      <td>0.0</td>\n",
              "      <td>0.0</td>\n",
              "      <td>0.0</td>\n",
              "      <td>0.0</td>\n",
              "      <td>...</td>\n",
              "      <td>0.007843</td>\n",
              "      <td>0.007843</td>\n",
              "      <td>0.007843</td>\n",
              "      <td>0.007843</td>\n",
              "      <td>0.007843</td>\n",
              "      <td>0.0</td>\n",
              "      <td>0.0</td>\n",
              "      <td>0.0</td>\n",
              "      <td>0.0</td>\n",
              "      <td>0</td>\n",
              "    </tr>\n",
              "  </tbody>\n",
              "</table>\n",
              "<p>5 rows × 2501 columns</p>\n",
              "</div>\n",
              "      <button class=\"colab-df-convert\" onclick=\"convertToInteractive('df-001decc9-dd43-4094-a084-1f26c81611d7')\"\n",
              "              title=\"Convert this dataframe to an interactive table.\"\n",
              "              style=\"display:none;\">\n",
              "        \n",
              "  <svg xmlns=\"http://www.w3.org/2000/svg\" height=\"24px\"viewBox=\"0 0 24 24\"\n",
              "       width=\"24px\">\n",
              "    <path d=\"M0 0h24v24H0V0z\" fill=\"none\"/>\n",
              "    <path d=\"M18.56 5.44l.94 2.06.94-2.06 2.06-.94-2.06-.94-.94-2.06-.94 2.06-2.06.94zm-11 1L8.5 8.5l.94-2.06 2.06-.94-2.06-.94L8.5 2.5l-.94 2.06-2.06.94zm10 10l.94 2.06.94-2.06 2.06-.94-2.06-.94-.94-2.06-.94 2.06-2.06.94z\"/><path d=\"M17.41 7.96l-1.37-1.37c-.4-.4-.92-.59-1.43-.59-.52 0-1.04.2-1.43.59L10.3 9.45l-7.72 7.72c-.78.78-.78 2.05 0 2.83L4 21.41c.39.39.9.59 1.41.59.51 0 1.02-.2 1.41-.59l7.78-7.78 2.81-2.81c.8-.78.8-2.07 0-2.86zM5.41 20L4 18.59l7.72-7.72 1.47 1.35L5.41 20z\"/>\n",
              "  </svg>\n",
              "      </button>\n",
              "      \n",
              "  <style>\n",
              "    .colab-df-container {\n",
              "      display:flex;\n",
              "      flex-wrap:wrap;\n",
              "      gap: 12px;\n",
              "    }\n",
              "\n",
              "    .colab-df-convert {\n",
              "      background-color: #E8F0FE;\n",
              "      border: none;\n",
              "      border-radius: 50%;\n",
              "      cursor: pointer;\n",
              "      display: none;\n",
              "      fill: #1967D2;\n",
              "      height: 32px;\n",
              "      padding: 0 0 0 0;\n",
              "      width: 32px;\n",
              "    }\n",
              "\n",
              "    .colab-df-convert:hover {\n",
              "      background-color: #E2EBFA;\n",
              "      box-shadow: 0px 1px 2px rgba(60, 64, 67, 0.3), 0px 1px 3px 1px rgba(60, 64, 67, 0.15);\n",
              "      fill: #174EA6;\n",
              "    }\n",
              "\n",
              "    [theme=dark] .colab-df-convert {\n",
              "      background-color: #3B4455;\n",
              "      fill: #D2E3FC;\n",
              "    }\n",
              "\n",
              "    [theme=dark] .colab-df-convert:hover {\n",
              "      background-color: #434B5C;\n",
              "      box-shadow: 0px 1px 3px 1px rgba(0, 0, 0, 0.15);\n",
              "      filter: drop-shadow(0px 1px 2px rgba(0, 0, 0, 0.3));\n",
              "      fill: #FFFFFF;\n",
              "    }\n",
              "  </style>\n",
              "\n",
              "      <script>\n",
              "        const buttonEl =\n",
              "          document.querySelector('#df-001decc9-dd43-4094-a084-1f26c81611d7 button.colab-df-convert');\n",
              "        buttonEl.style.display =\n",
              "          google.colab.kernel.accessAllowed ? 'block' : 'none';\n",
              "\n",
              "        async function convertToInteractive(key) {\n",
              "          const element = document.querySelector('#df-001decc9-dd43-4094-a084-1f26c81611d7');\n",
              "          const dataTable =\n",
              "            await google.colab.kernel.invokeFunction('convertToInteractive',\n",
              "                                                     [key], {});\n",
              "          if (!dataTable) return;\n",
              "\n",
              "          const docLinkHtml = 'Like what you see? Visit the ' +\n",
              "            '<a target=\"_blank\" href=https://colab.research.google.com/notebooks/data_table.ipynb>data table notebook</a>'\n",
              "            + ' to learn more about interactive tables.';\n",
              "          element.innerHTML = '';\n",
              "          dataTable['output_type'] = 'display_data';\n",
              "          await google.colab.output.renderOutput(dataTable, element);\n",
              "          const docLink = document.createElement('div');\n",
              "          docLink.innerHTML = docLinkHtml;\n",
              "          element.appendChild(docLink);\n",
              "        }\n",
              "      </script>\n",
              "    </div>\n",
              "  </div>\n",
              "  "
            ]
          },
          "metadata": {},
          "execution_count": 87
        }
      ]
    },
    {
      "cell_type": "markdown",
      "source": [
        "# II Data Splitting\n"
      ],
      "metadata": {
        "id": "9MxdTdH7jZir"
      }
    },
    {
      "cell_type": "code",
      "source": [
        "X, y = data.iloc[:, :-1], data.iloc[:, -1]\n",
        "#Split dataset into training, validation and testing datasets.\n",
        "X_train, X_test, y_train, y_test = train_test_split(X, \n",
        "                                                    y, \n",
        "                                                    train_size= 0.7,\n",
        "                                                    stratify=y,\n",
        "                                                   random_state=42)\n",
        "\n",
        "X_val, X_test, y_val, y_test = train_test_split(X_test,\n",
        "                                               y_test,\n",
        "                                               train_size= 1/3,\n",
        "                                               stratify=y_test,\n",
        "                                               random_state=42)\n",
        "print(X_train.shape)\n",
        "print(X_val.shape)\n",
        "print(X_test.shape)"
      ],
      "metadata": {
        "colab": {
          "base_uri": "https://localhost:8080/"
        },
        "id": "KHar9PJ5kzSF",
        "outputId": "0fe2306e-61fc-49fc-f699-2e058c0657cf"
      },
      "execution_count": 88,
      "outputs": [
        {
          "output_type": "stream",
          "name": "stdout",
          "text": [
            "(3500, 2500)\n",
            "(500, 2500)\n",
            "(1000, 2500)\n"
          ]
        }
      ]
    },
    {
      "cell_type": "markdown",
      "source": [
        "In this case, We will split dataset into three parts and the ratio of each part is as follows:\n",
        "<li>70% for training set;</li>\n",
        "<li>10% for validation set;</li>\n",
        "<li>20% for testing set.</li>"
      ],
      "metadata": {
        "id": "5TZIt56Vk8ez"
      }
    },
    {
      "cell_type": "markdown",
      "source": [
        "# III MLP Model"
      ],
      "metadata": {
        "id": "7ZzvqdEplMlK"
      }
    },
    {
      "cell_type": "markdown",
      "source": [
        "## Create Model MLP (Basic)\n"
      ],
      "metadata": {
        "id": "5HXMgu7slfpR"
      }
    },
    {
      "cell_type": "code",
      "source": [
        "tf.keras.backend.clear_session()\n",
        "\n",
        "model_mlp = tf.keras.Sequential([\n",
        "    tf.keras.layers.Input(shape=(2500)),\n",
        "    tf.keras.layers.Dense(units=8, activation='relu'),\n",
        "    tf.keras.layers.Dense(units=8, activation='relu'),\n",
        "    tf.keras.layers.Dense(units=5, activation='softmax'),\n",
        "])\n",
        "model_mlp.summary()\n",
        "\n",
        "\n",
        "# One dense layer with 8 units and the activation function is 'relu'\n",
        "# Another dense layer with 8 units and the activation function is 'relu'\n",
        "# Final desnse layer (Output) with 5 units(5 catogories for label) and the activation function is 'softmax'"
      ],
      "metadata": {
        "colab": {
          "base_uri": "https://localhost:8080/"
        },
        "id": "QPpRQwJWlK7N",
        "outputId": "e2c28f72-a415-4323-b377-c44788a4c56f"
      },
      "execution_count": 89,
      "outputs": [
        {
          "output_type": "stream",
          "name": "stdout",
          "text": [
            "Model: \"sequential\"\n",
            "_________________________________________________________________\n",
            " Layer (type)                Output Shape              Param #   \n",
            "=================================================================\n",
            " dense (Dense)               (None, 8)                 20008     \n",
            "                                                                 \n",
            " dense_1 (Dense)             (None, 8)                 72        \n",
            "                                                                 \n",
            " dense_2 (Dense)             (None, 5)                 45        \n",
            "                                                                 \n",
            "=================================================================\n",
            "Total params: 20,125\n",
            "Trainable params: 20,125\n",
            "Non-trainable params: 0\n",
            "_________________________________________________________________\n"
          ]
        }
      ]
    },
    {
      "cell_type": "code",
      "source": [
        "tf.keras.utils.plot_model(model_mlp)"
      ],
      "metadata": {
        "colab": {
          "base_uri": "https://localhost:8080/",
          "height": 369
        },
        "id": "NwhsRvcpmB2F",
        "outputId": "abac74ab-5cb3-4f14-86dc-96e299e72702"
      },
      "execution_count": 90,
      "outputs": [
        {
          "output_type": "execute_result",
          "data": {
            "image/png": "[encoded data removed]",
            "text/plain": [
              "<IPython.core.display.Image object>"
            ]
          },
          "metadata": {},
          "execution_count": 90
        }
      ]
    },
    {
      "cell_type": "markdown",
      "source": [
        "### Training and complie\n"
      ],
      "metadata": {
        "id": "aegLrJaNmHee"
      }
    },
    {
      "cell_type": "code",
      "source": [
        "model_mlp.compile(loss=tf.keras.losses.SparseCategoricalCrossentropy(),\n",
        "             optimizer=tf.keras.optimizers.Adam(learning_rate=0.01),\n",
        "             metrics=['accuracy'])\n",
        "model_mlp_his = model_mlp.fit(X_train,\n",
        "                             y_train,\n",
        "                             epochs=30,\n",
        "                             batch_size=16,\n",
        "                             validation_data=(X_val, y_val)\n",
        "                             )"
      ],
      "metadata": {
        "colab": {
          "base_uri": "https://localhost:8080/"
        },
        "id": "FvdC7iGcmLuI",
        "outputId": "683c6344-ecce-457b-96e0-595784621670"
      },
      "execution_count": 91,
      "outputs": [
        {
          "output_type": "stream",
          "name": "stdout",
          "text": [
            "Epoch 1/30\n",
            "219/219 [==============================] - 2s 5ms/step - loss: 0.8228 - accuracy: 0.6340 - val_loss: 0.4191 - val_accuracy: 0.8340\n",
            "Epoch 2/30\n",
            "219/219 [==============================] - 1s 4ms/step - loss: 0.3298 - accuracy: 0.8726 - val_loss: 0.2573 - val_accuracy: 0.9260\n",
            "Epoch 3/30\n",
            "219/219 [==============================] - 1s 4ms/step - loss: 0.1503 - accuracy: 0.9523 - val_loss: 0.1357 - val_accuracy: 0.9660\n",
            "Epoch 4/30\n",
            "219/219 [==============================] - 1s 4ms/step - loss: 0.1066 - accuracy: 0.9654 - val_loss: 0.0771 - val_accuracy: 0.9760\n",
            "Epoch 5/30\n",
            "219/219 [==============================] - 1s 4ms/step - loss: 0.1002 - accuracy: 0.9657 - val_loss: 0.0891 - val_accuracy: 0.9700\n",
            "Epoch 6/30\n",
            "219/219 [==============================] - 1s 4ms/step - loss: 0.0578 - accuracy: 0.9769 - val_loss: 0.0799 - val_accuracy: 0.9700\n",
            "Epoch 7/30\n",
            "219/219 [==============================] - 1s 4ms/step - loss: 0.0844 - accuracy: 0.9751 - val_loss: 0.1522 - val_accuracy: 0.9480\n",
            "Epoch 8/30\n",
            "219/219 [==============================] - 1s 4ms/step - loss: 0.0659 - accuracy: 0.9746 - val_loss: 0.1242 - val_accuracy: 0.9700\n",
            "Epoch 9/30\n",
            "219/219 [==============================] - 1s 4ms/step - loss: 0.0718 - accuracy: 0.9746 - val_loss: 0.1875 - val_accuracy: 0.9420\n",
            "Epoch 10/30\n",
            "219/219 [==============================] - 1s 4ms/step - loss: 0.0552 - accuracy: 0.9817 - val_loss: 0.2918 - val_accuracy: 0.9160\n",
            "Epoch 11/30\n",
            "219/219 [==============================] - 1s 5ms/step - loss: 0.0971 - accuracy: 0.9671 - val_loss: 0.1492 - val_accuracy: 0.9620\n",
            "Epoch 12/30\n",
            "219/219 [==============================] - 1s 5ms/step - loss: 0.1367 - accuracy: 0.9620 - val_loss: 0.0931 - val_accuracy: 0.9760\n",
            "Epoch 13/30\n",
            "219/219 [==============================] - 1s 4ms/step - loss: 0.0315 - accuracy: 0.9874 - val_loss: 0.0501 - val_accuracy: 0.9800\n",
            "Epoch 14/30\n",
            "219/219 [==============================] - 1s 4ms/step - loss: 0.0414 - accuracy: 0.9851 - val_loss: 0.1019 - val_accuracy: 0.9720\n",
            "Epoch 15/30\n",
            "219/219 [==============================] - 1s 4ms/step - loss: 0.0427 - accuracy: 0.9840 - val_loss: 0.0704 - val_accuracy: 0.9740\n",
            "Epoch 16/30\n",
            "219/219 [==============================] - 1s 4ms/step - loss: 0.0414 - accuracy: 0.9831 - val_loss: 0.0913 - val_accuracy: 0.9760\n",
            "Epoch 17/30\n",
            "219/219 [==============================] - 1s 4ms/step - loss: 0.0302 - accuracy: 0.9886 - val_loss: 0.0639 - val_accuracy: 0.9860\n",
            "Epoch 18/30\n",
            "219/219 [==============================] - 1s 4ms/step - loss: 0.0335 - accuracy: 0.9874 - val_loss: 0.2070 - val_accuracy: 0.9600\n",
            "Epoch 19/30\n",
            "219/219 [==============================] - 1s 4ms/step - loss: 0.0621 - accuracy: 0.9814 - val_loss: 0.1343 - val_accuracy: 0.9660\n",
            "Epoch 20/30\n",
            "219/219 [==============================] - 1s 4ms/step - loss: 0.0921 - accuracy: 0.9751 - val_loss: 0.0968 - val_accuracy: 0.9760\n",
            "Epoch 21/30\n",
            "219/219 [==============================] - 1s 4ms/step - loss: 0.0547 - accuracy: 0.9831 - val_loss: 0.0893 - val_accuracy: 0.9740\n",
            "Epoch 22/30\n",
            "219/219 [==============================] - 1s 4ms/step - loss: 0.0220 - accuracy: 0.9917 - val_loss: 0.0642 - val_accuracy: 0.9840\n",
            "Epoch 23/30\n",
            "219/219 [==============================] - 1s 3ms/step - loss: 0.0233 - accuracy: 0.9920 - val_loss: 0.0613 - val_accuracy: 0.9840\n",
            "Epoch 24/30\n",
            "219/219 [==============================] - 1s 4ms/step - loss: 0.0296 - accuracy: 0.9909 - val_loss: 0.0607 - val_accuracy: 0.9820\n",
            "Epoch 25/30\n",
            "219/219 [==============================] - 1s 4ms/step - loss: 0.0616 - accuracy: 0.9809 - val_loss: 0.6375 - val_accuracy: 0.9040\n",
            "Epoch 26/30\n",
            "219/219 [==============================] - 1s 5ms/step - loss: 0.0983 - accuracy: 0.9820 - val_loss: 0.1555 - val_accuracy: 0.9820\n",
            "Epoch 27/30\n",
            "219/219 [==============================] - 1s 5ms/step - loss: 0.0325 - accuracy: 0.9897 - val_loss: 0.1059 - val_accuracy: 0.9800\n",
            "Epoch 28/30\n",
            "219/219 [==============================] - 1s 4ms/step - loss: 0.0119 - accuracy: 0.9957 - val_loss: 0.0970 - val_accuracy: 0.9860\n",
            "Epoch 29/30\n",
            "219/219 [==============================] - 1s 4ms/step - loss: 0.0233 - accuracy: 0.9929 - val_loss: 0.1104 - val_accuracy: 0.9760\n",
            "Epoch 30/30\n",
            "219/219 [==============================] - 1s 4ms/step - loss: 0.0414 - accuracy: 0.9877 - val_loss: 0.0789 - val_accuracy: 0.9780\n"
          ]
        }
      ]
    },
    {
      "cell_type": "code",
      "source": [
        "model_mlp_his.history"
      ],
      "metadata": {
        "colab": {
          "base_uri": "https://localhost:8080/"
        },
        "id": "dXMsDDZjm4Tu",
        "outputId": "97b54065-32c0-4d0e-c3cb-d71a5e8cb2c6"
      },
      "execution_count": 92,
      "outputs": [
        {
          "output_type": "execute_result",
          "data": {
            "text/plain": [
              "{'loss': [0.8227734565734863,\n",
              "  0.32978811860084534,\n",
              "  0.1502918303012848,\n",
              "  0.10660971701145172,\n",
              "  0.10017711669206619,\n",
              "  0.05783706530928612,\n",
              "  0.08443368226289749,\n",
              "  0.06585953384637833,\n",
              "  0.0717974454164505,\n",
              "  0.05519796162843704,\n",
              "  0.09714601933956146,\n",
              "  0.13670039176940918,\n",
              "  0.031475428491830826,\n",
              "  0.04135856032371521,\n",
              "  0.042700689285993576,\n",
              "  0.041441887617111206,\n",
              "  0.030155204236507416,\n",
              "  0.03348571062088013,\n",
              "  0.06207502633333206,\n",
              "  0.09214010834693909,\n",
              "  0.05473679304122925,\n",
              "  0.021953048184514046,\n",
              "  0.023329047486186028,\n",
              "  0.02962464839220047,\n",
              "  0.06161138042807579,\n",
              "  0.09831996262073517,\n",
              "  0.03247680515050888,\n",
              "  0.011897852644324303,\n",
              "  0.023345062509179115,\n",
              "  0.04135623946785927],\n",
              " 'accuracy': [0.6340000033378601,\n",
              "  0.8725714087486267,\n",
              "  0.9522857069969177,\n",
              "  0.9654285907745361,\n",
              "  0.9657142758369446,\n",
              "  0.9768571257591248,\n",
              "  0.9751428365707397,\n",
              "  0.9745714068412781,\n",
              "  0.9745714068412781,\n",
              "  0.9817143082618713,\n",
              "  0.9671428799629211,\n",
              "  0.9620000123977661,\n",
              "  0.9874285459518433,\n",
              "  0.9851428866386414,\n",
              "  0.984000027179718,\n",
              "  0.9831428527832031,\n",
              "  0.9885714054107666,\n",
              "  0.9874285459518433,\n",
              "  0.9814285635948181,\n",
              "  0.9751428365707397,\n",
              "  0.9831428527832031,\n",
              "  0.9917142987251282,\n",
              "  0.9919999837875366,\n",
              "  0.9908571243286133,\n",
              "  0.9808571338653564,\n",
              "  0.9819999933242798,\n",
              "  0.9897142648696899,\n",
              "  0.9957143068313599,\n",
              "  0.9928571581840515,\n",
              "  0.9877142906188965],\n",
              " 'val_loss': [0.4190979599952698,\n",
              "  0.25725144147872925,\n",
              "  0.13568414747714996,\n",
              "  0.07706867903470993,\n",
              "  0.08907801657915115,\n",
              "  0.07986564934253693,\n",
              "  0.15215140581130981,\n",
              "  0.12418869137763977,\n",
              "  0.18745562434196472,\n",
              "  0.2918339669704437,\n",
              "  0.14915913343429565,\n",
              "  0.0930657610297203,\n",
              "  0.05007157102227211,\n",
              "  0.10189348459243774,\n",
              "  0.07039754837751389,\n",
              "  0.0912628024816513,\n",
              "  0.06392516940832138,\n",
              "  0.20699067413806915,\n",
              "  0.1342664361000061,\n",
              "  0.09679903835058212,\n",
              "  0.08926856517791748,\n",
              "  0.06416469812393188,\n",
              "  0.06130446866154671,\n",
              "  0.06067599356174469,\n",
              "  0.6375150680541992,\n",
              "  0.15546412765979767,\n",
              "  0.10587681829929352,\n",
              "  0.09703759104013443,\n",
              "  0.1104414090514183,\n",
              "  0.07886869460344315],\n",
              " 'val_accuracy': [0.8339999914169312,\n",
              "  0.9259999990463257,\n",
              "  0.9660000205039978,\n",
              "  0.9760000109672546,\n",
              "  0.9700000286102295,\n",
              "  0.9700000286102295,\n",
              "  0.9480000138282776,\n",
              "  0.9700000286102295,\n",
              "  0.9419999718666077,\n",
              "  0.9160000085830688,\n",
              "  0.9620000123977661,\n",
              "  0.9760000109672546,\n",
              "  0.9800000190734863,\n",
              "  0.972000002861023,\n",
              "  0.9739999771118164,\n",
              "  0.9760000109672546,\n",
              "  0.9860000014305115,\n",
              "  0.9599999785423279,\n",
              "  0.9660000205039978,\n",
              "  0.9760000109672546,\n",
              "  0.9739999771118164,\n",
              "  0.984000027179718,\n",
              "  0.984000027179718,\n",
              "  0.9819999933242798,\n",
              "  0.9039999842643738,\n",
              "  0.9819999933242798,\n",
              "  0.9800000190734863,\n",
              "  0.9860000014305115,\n",
              "  0.9760000109672546,\n",
              "  0.9779999852180481]}"
            ]
          },
          "metadata": {},
          "execution_count": 92
        }
      ]
    },
    {
      "cell_type": "code",
      "source": [
        "fig, ax = plt.subplots(1,2,figsize=(15,8))\n",
        "\n",
        "ax[0].plot(model_mlp_his.history['loss'], label='Loss')\n",
        "ax[0].plot(model_mlp_his.history['val_loss'], label='Validation Loss')\n",
        "ax[0].set_xlabel('Epoch', fontsize=15)\n",
        "ax[0].set_ylabel('Loss', fontsize=15)\n",
        "ax[0].set_title('Loss', fontsize=15)\n",
        "ax[0].legend(loc='best', fontsize=15)\n",
        "\n",
        "ax[1].plot(model_mlp_his.history['accuracy'], label='Accuracy')\n",
        "ax[1].plot(model_mlp_his.history['val_accuracy'], label='Validation Accuracy')\n",
        "ax[1].set_xlabel('Epoch', fontsize=15)\n",
        "ax[1].set_ylabel('Accuracy', fontsize=15)\n",
        "ax[1].set_title('Accuracy', fontsize=15)\n",
        "ax[1].legend(loc='best', fontsize=15)\n",
        "\n",
        "plt.show()"
      ],
      "metadata": {
        "colab": {
          "base_uri": "https://localhost:8080/",
          "height": 653
        },
        "id": "O6B5Y8K8m68J",
        "outputId": "0867de29-e104-4ff0-caaf-2c7ae743ca0c"
      },
      "execution_count": 93,
      "outputs": [
        {
          "output_type": "display_data",
          "data": {
            "text/plain": [
              "<Figure size 1500x800 with 2 Axes>"
            ],
            "image/png": "[encoded data removed]"
          },
          "metadata": {}
        }
      ]
    },
    {
      "cell_type": "markdown",
      "source": [
        "As we can see from the learning curve, this model fits well on the training set, but not very stable for validation set - so we need to adjust the structure and compling method."
      ],
      "metadata": {
        "id": "e-j6-0_3n4Bb"
      }
    },
    {
      "cell_type": "markdown",
      "source": [
        "### Model evaluation and prediction"
      ],
      "metadata": {
        "id": "s0F-ugTnokCc"
      }
    },
    {
      "cell_type": "code",
      "source": [
        "model_mlp.evaluate(X_test, y_test)"
      ],
      "metadata": {
        "colab": {
          "base_uri": "https://localhost:8080/"
        },
        "id": "QTR2LIsfn8bK",
        "outputId": "4d15ae65-2e98-4a07-f9b6-c8df585b4b0a"
      },
      "execution_count": 94,
      "outputs": [
        {
          "output_type": "stream",
          "name": "stdout",
          "text": [
            "32/32 [==============================] - 0s 3ms/step - loss: 0.0886 - accuracy: 0.9760\n"
          ]
        },
        {
          "output_type": "execute_result",
          "data": {
            "text/plain": [
              "[0.08863972127437592, 0.9760000109672546]"
            ]
          },
          "metadata": {},
          "execution_count": 94
        }
      ]
    },
    {
      "cell_type": "code",
      "source": [
        "y_mlp_pred = model_mlp.predict(X_test)\n",
        "y_mlp_pred = np.argmax(y_mlp_pred, axis=1)"
      ],
      "metadata": {
        "colab": {
          "base_uri": "https://localhost:8080/"
        },
        "id": "kJnx0TnXoroZ",
        "outputId": "ca05229b-1ed1-4136-e498-452821a7f452"
      },
      "execution_count": 95,
      "outputs": [
        {
          "output_type": "stream",
          "name": "stdout",
          "text": [
            "32/32 [==============================] - 0s 2ms/step\n"
          ]
        }
      ]
    },
    {
      "cell_type": "code",
      "source": [
        "report_mlp = classification_report(y_test, y_mlp_pred, target_names=types_rice,output_dict=True)\n",
        "df1 = pd.DataFrame(report_mlp).transpose()\n",
        "df1"
      ],
      "metadata": {
        "colab": {
          "base_uri": "https://localhost:8080/",
          "height": 300
        },
        "id": "8eRnMD9WovrT",
        "outputId": "cf7e24f3-3bb1-412c-9607-baa405ccda78"
      },
      "execution_count": 96,
      "outputs": [
        {
          "output_type": "execute_result",
          "data": {
            "text/plain": [
              "              precision  recall  f1-score   support\n",
              "Basmati        0.995000   0.995  0.995000   200.000\n",
              "Arborio        0.958549   0.925  0.941476   200.000\n",
              "Karacadag      0.960199   0.965  0.962594   200.000\n",
              "Jasmine        0.966019   0.995  0.980296   200.000\n",
              "Ipsala         1.000000   1.000  1.000000   200.000\n",
              "accuracy       0.976000   0.976  0.976000     0.976\n",
              "macro avg      0.975954   0.976  0.975873  1000.000\n",
              "weighted avg   0.975954   0.976  0.975873  1000.000"
            ],
            "text/html": [
              "\n",
              "  <div id=\"df-057d1056-519d-4396-87a2-3b72085dc59a\">\n",
              "    <div class=\"colab-df-container\">\n",
              "      <div>\n",
              "<style scoped>\n",
              "    .dataframe tbody tr th:only-of-type {\n",
              "        vertical-align: middle;\n",
              "    }\n",
              "\n",
              "    .dataframe tbody tr th {\n",
              "        vertical-align: top;\n",
              "    }\n",
              "\n",
              "    .dataframe thead th {\n",
              "        text-align: right;\n",
              "    }\n",
              "</style>\n",
              "<table border=\"1\" class=\"dataframe\">\n",
              "  <thead>\n",
              "    <tr style=\"text-align: right;\">\n",
              "      <th></th>\n",
              "      <th>precision</th>\n",
              "      <th>recall</th>\n",
              "      <th>f1-score</th>\n",
              "      <th>support</th>\n",
              "    </tr>\n",
              "  </thead>\n",
              "  <tbody>\n",
              "    <tr>\n",
              "      <th>Basmati</th>\n",
              "      <td>0.995000</td>\n",
              "      <td>0.995</td>\n",
              "      <td>0.995000</td>\n",
              "      <td>200.000</td>\n",
              "    </tr>\n",
              "    <tr>\n",
              "      <th>Arborio</th>\n",
              "      <td>0.958549</td>\n",
              "      <td>0.925</td>\n",
              "      <td>0.941476</td>\n",
              "      <td>200.000</td>\n",
              "    </tr>\n",
              "    <tr>\n",
              "      <th>Karacadag</th>\n",
              "      <td>0.960199</td>\n",
              "      <td>0.965</td>\n",
              "      <td>0.962594</td>\n",
              "      <td>200.000</td>\n",
              "    </tr>\n",
              "    <tr>\n",
              "      <th>Jasmine</th>\n",
              "      <td>0.966019</td>\n",
              "      <td>0.995</td>\n",
              "      <td>0.980296</td>\n",
              "      <td>200.000</td>\n",
              "    </tr>\n",
              "    <tr>\n",
              "      <th>Ipsala</th>\n",
              "      <td>1.000000</td>\n",
              "      <td>1.000</td>\n",
              "      <td>1.000000</td>\n",
              "      <td>200.000</td>\n",
              "    </tr>\n",
              "    <tr>\n",
              "      <th>accuracy</th>\n",
              "      <td>0.976000</td>\n",
              "      <td>0.976</td>\n",
              "      <td>0.976000</td>\n",
              "      <td>0.976</td>\n",
              "    </tr>\n",
              "    <tr>\n",
              "      <th>macro avg</th>\n",
              "      <td>0.975954</td>\n",
              "      <td>0.976</td>\n",
              "      <td>0.975873</td>\n",
              "      <td>1000.000</td>\n",
              "    </tr>\n",
              "    <tr>\n",
              "      <th>weighted avg</th>\n",
              "      <td>0.975954</td>\n",
              "      <td>0.976</td>\n",
              "      <td>0.975873</td>\n",
              "      <td>1000.000</td>\n",
              "    </tr>\n",
              "  </tbody>\n",
              "</table>\n",
              "</div>\n",
              "      <button class=\"colab-df-convert\" onclick=\"convertToInteractive('df-057d1056-519d-4396-87a2-3b72085dc59a')\"\n",
              "              title=\"Convert this dataframe to an interactive table.\"\n",
              "              style=\"display:none;\">\n",
              "        \n",
              "  <svg xmlns=\"http://www.w3.org/2000/svg\" height=\"24px\"viewBox=\"0 0 24 24\"\n",
              "       width=\"24px\">\n",
              "    <path d=\"M0 0h24v24H0V0z\" fill=\"none\"/>\n",
              "    <path d=\"M18.56 5.44l.94 2.06.94-2.06 2.06-.94-2.06-.94-.94-2.06-.94 2.06-2.06.94zm-11 1L8.5 8.5l.94-2.06 2.06-.94-2.06-.94L8.5 2.5l-.94 2.06-2.06.94zm10 10l.94 2.06.94-2.06 2.06-.94-2.06-.94-.94-2.06-.94 2.06-2.06.94z\"/><path d=\"M17.41 7.96l-1.37-1.37c-.4-.4-.92-.59-1.43-.59-.52 0-1.04.2-1.43.59L10.3 9.45l-7.72 7.72c-.78.78-.78 2.05 0 2.83L4 21.41c.39.39.9.59 1.41.59.51 0 1.02-.2 1.41-.59l7.78-7.78 2.81-2.81c.8-.78.8-2.07 0-2.86zM5.41 20L4 18.59l7.72-7.72 1.47 1.35L5.41 20z\"/>\n",
              "  </svg>\n",
              "      </button>\n",
              "      \n",
              "  <style>\n",
              "    .colab-df-container {\n",
              "      display:flex;\n",
              "      flex-wrap:wrap;\n",
              "      gap: 12px;\n",
              "    }\n",
              "\n",
              "    .colab-df-convert {\n",
              "      background-color: #E8F0FE;\n",
              "      border: none;\n",
              "      border-radius: 50%;\n",
              "      cursor: pointer;\n",
              "      display: none;\n",
              "      fill: #1967D2;\n",
              "      height: 32px;\n",
              "      padding: 0 0 0 0;\n",
              "      width: 32px;\n",
              "    }\n",
              "\n",
              "    .colab-df-convert:hover {\n",
              "      background-color: #E2EBFA;\n",
              "      box-shadow: 0px 1px 2px rgba(60, 64, 67, 0.3), 0px 1px 3px 1px rgba(60, 64, 67, 0.15);\n",
              "      fill: #174EA6;\n",
              "    }\n",
              "\n",
              "    [theme=dark] .colab-df-convert {\n",
              "      background-color: #3B4455;\n",
              "      fill: #D2E3FC;\n",
              "    }\n",
              "\n",
              "    [theme=dark] .colab-df-convert:hover {\n",
              "      background-color: #434B5C;\n",
              "      box-shadow: 0px 1px 3px 1px rgba(0, 0, 0, 0.15);\n",
              "      filter: drop-shadow(0px 1px 2px rgba(0, 0, 0, 0.3));\n",
              "      fill: #FFFFFF;\n",
              "    }\n",
              "  </style>\n",
              "\n",
              "      <script>\n",
              "        const buttonEl =\n",
              "          document.querySelector('#df-057d1056-519d-4396-87a2-3b72085dc59a button.colab-df-convert');\n",
              "        buttonEl.style.display =\n",
              "          google.colab.kernel.accessAllowed ? 'block' : 'none';\n",
              "\n",
              "        async function convertToInteractive(key) {\n",
              "          const element = document.querySelector('#df-057d1056-519d-4396-87a2-3b72085dc59a');\n",
              "          const dataTable =\n",
              "            await google.colab.kernel.invokeFunction('convertToInteractive',\n",
              "                                                     [key], {});\n",
              "          if (!dataTable) return;\n",
              "\n",
              "          const docLinkHtml = 'Like what you see? Visit the ' +\n",
              "            '<a target=\"_blank\" href=https://colab.research.google.com/notebooks/data_table.ipynb>data table notebook</a>'\n",
              "            + ' to learn more about interactive tables.';\n",
              "          element.innerHTML = '';\n",
              "          dataTable['output_type'] = 'display_data';\n",
              "          await google.colab.output.renderOutput(dataTable, element);\n",
              "          const docLink = document.createElement('div');\n",
              "          docLink.innerHTML = docLinkHtml;\n",
              "          element.appendChild(docLink);\n",
              "        }\n",
              "      </script>\n",
              "    </div>\n",
              "  </div>\n",
              "  "
            ]
          },
          "metadata": {},
          "execution_count": 96
        }
      ]
    },
    {
      "cell_type": "code",
      "source": [
        "cm = confusion_matrix(y_true=y_test, y_pred=y_mlp_pred)\n",
        "\n",
        "fig, ax = plt.subplots(figsize=(10,10))\n",
        "ConfusionMatrixDisplay.from_predictions(y_test, y_mlp_pred, \n",
        "                                        ax=ax,\n",
        "                                        display_labels=types_rice,\n",
        "                                        xticks_rotation='vertical')\n",
        "plt.show()"
      ],
      "metadata": {
        "colab": {
          "base_uri": "https://localhost:8080/",
          "height": 841
        },
        "id": "y2W5z-vapXqR",
        "outputId": "1fc6daab-1474-4bd8-a995-e73c302b2251"
      },
      "execution_count": 97,
      "outputs": [
        {
          "output_type": "display_data",
          "data": {
            "text/plain": [
              "<Figure size 1000x1000 with 2 Axes>"
            ],
            "image/png": "[encoded data removed]"
          },
          "metadata": {}
        }
      ]
    },
    {
      "cell_type": "markdown",
      "source": [
        "In the next part, we will improve the model by adding more layers and control the number of units in each hidden layer."
      ],
      "metadata": {
        "id": "Kl3wVzB2phnb"
      }
    },
    {
      "cell_type": "markdown",
      "source": [
        "## Model MLP improve"
      ],
      "metadata": {
        "id": "SA0JaIcipmx_"
      }
    },
    {
      "cell_type": "markdown",
      "source": [
        "Now we will use more layers and control the number of units in each hidden layer"
      ],
      "metadata": {
        "id": "qSpr_Iphp0aD"
      }
    },
    {
      "cell_type": "markdown",
      "source": [
        "### Build model"
      ],
      "metadata": {
        "id": "ksEdX929qU2h"
      }
    },
    {
      "cell_type": "code",
      "source": [
        "tf.keras.backend.clear_session()\n",
        "\n",
        "model_mlp_improve = tf.keras.Sequential([\n",
        "    tf.keras.layers.Input(shape=(2500)),\n",
        "    tf.keras.layers.Dense(units=64, activation='relu'),\n",
        "    tf.keras.layers.Dense(units=32, activation='relu'),\n",
        "    tf.keras.layers.Dense(units=16, activation='relu'),\n",
        "    tf.keras.layers.Dense(units=5, activation='softmax'),\n",
        "])\n"
      ],
      "metadata": {
        "id": "RkwBPLS8p-PS"
      },
      "execution_count": 98,
      "outputs": []
    },
    {
      "cell_type": "code",
      "source": [
        "model_mlp_improve.summary()"
      ],
      "metadata": {
        "colab": {
          "base_uri": "https://localhost:8080/"
        },
        "id": "SJP9fDVrqA_x",
        "outputId": "b304dc25-82ef-4356-b381-328fc68fb307"
      },
      "execution_count": 99,
      "outputs": [
        {
          "output_type": "stream",
          "name": "stdout",
          "text": [
            "Model: \"sequential\"\n",
            "_________________________________________________________________\n",
            " Layer (type)                Output Shape              Param #   \n",
            "=================================================================\n",
            " dense (Dense)               (None, 64)                160064    \n",
            "                                                                 \n",
            " dense_1 (Dense)             (None, 32)                2080      \n",
            "                                                                 \n",
            " dense_2 (Dense)             (None, 16)                528       \n",
            "                                                                 \n",
            " dense_3 (Dense)             (None, 5)                 85        \n",
            "                                                                 \n",
            "=================================================================\n",
            "Total params: 162,757\n",
            "Trainable params: 162,757\n",
            "Non-trainable params: 0\n",
            "_________________________________________________________________\n"
          ]
        }
      ]
    },
    {
      "cell_type": "code",
      "source": [
        "tf.keras.utils.plot_model(model_mlp_improve)"
      ],
      "metadata": {
        "colab": {
          "base_uri": "https://localhost:8080/",
          "height": 466
        },
        "id": "sacYGaV_qvA0",
        "outputId": "e233e691-3b36-4e1d-debe-699d32e2b0cd"
      },
      "execution_count": 100,
      "outputs": [
        {
          "output_type": "execute_result",
          "data": {
            "image/png": "[encoded data removed]",
            "text/plain": [
              "<IPython.core.display.Image object>"
            ]
          },
          "metadata": {},
          "execution_count": 100
        }
      ]
    },
    {
      "cell_type": "markdown",
      "source": [
        "### Trainning and complie\n"
      ],
      "metadata": {
        "id": "MfKAGkycrC4H"
      }
    },
    {
      "cell_type": "code",
      "source": [
        "# chose learning_rate = 0.001\n",
        "model_mlp_improve.compile(loss=tf.keras.losses.SparseCategoricalCrossentropy(),\n",
        "             optimizer=tf.keras.optimizers.legacy.SGD(learning_rate=0.001, momentum=0.9, decay=0, nesterov=False),\n",
        "             metrics=['accuracy'])\n"
      ],
      "metadata": {
        "id": "2MkJGcXUq0MA"
      },
      "execution_count": 101,
      "outputs": []
    },
    {
      "cell_type": "code",
      "source": [
        "model_mlp_his1 = model_mlp_improve.fit(X_train, \n",
        "               y_train,\n",
        "              epochs=20,\n",
        "              batch_size=32,\n",
        "              validation_data=(X_val, y_val))"
      ],
      "metadata": {
        "colab": {
          "base_uri": "https://localhost:8080/"
        },
        "id": "t5JP49yzryC1",
        "outputId": "002f3b28-c378-439f-df02-a4acc81aecf9"
      },
      "execution_count": 102,
      "outputs": [
        {
          "output_type": "stream",
          "name": "stdout",
          "text": [
            "Epoch 1/20\n",
            "110/110 [==============================] - 1s 5ms/step - loss: 1.4369 - accuracy: 0.3763 - val_loss: 1.2057 - val_accuracy: 0.5640\n",
            "Epoch 2/20\n",
            "110/110 [==============================] - 0s 4ms/step - loss: 1.0282 - accuracy: 0.6180 - val_loss: 0.8501 - val_accuracy: 0.6920\n",
            "Epoch 3/20\n",
            "110/110 [==============================] - 0s 4ms/step - loss: 0.6578 - accuracy: 0.8534 - val_loss: 0.4793 - val_accuracy: 0.9440\n",
            "Epoch 4/20\n",
            "110/110 [==============================] - 0s 3ms/step - loss: 0.3569 - accuracy: 0.9551 - val_loss: 0.2740 - val_accuracy: 0.9720\n",
            "Epoch 5/20\n",
            "110/110 [==============================] - 0s 4ms/step - loss: 0.2182 - accuracy: 0.9694 - val_loss: 0.1871 - val_accuracy: 0.9720\n",
            "Epoch 6/20\n",
            "110/110 [==============================] - 0s 3ms/step - loss: 0.1526 - accuracy: 0.9749 - val_loss: 0.1453 - val_accuracy: 0.9720\n",
            "Epoch 7/20\n",
            "110/110 [==============================] - 0s 4ms/step - loss: 0.1188 - accuracy: 0.9754 - val_loss: 0.1166 - val_accuracy: 0.9760\n",
            "Epoch 8/20\n",
            "110/110 [==============================] - 1s 5ms/step - loss: 0.0978 - accuracy: 0.9780 - val_loss: 0.0946 - val_accuracy: 0.9800\n",
            "Epoch 9/20\n",
            "110/110 [==============================] - 1s 5ms/step - loss: 0.0834 - accuracy: 0.9811 - val_loss: 0.0832 - val_accuracy: 0.9800\n",
            "Epoch 10/20\n",
            "110/110 [==============================] - 1s 5ms/step - loss: 0.0736 - accuracy: 0.9829 - val_loss: 0.0776 - val_accuracy: 0.9780\n",
            "Epoch 11/20\n",
            "110/110 [==============================] - 1s 5ms/step - loss: 0.0681 - accuracy: 0.9831 - val_loss: 0.0741 - val_accuracy: 0.9800\n",
            "Epoch 12/20\n",
            "110/110 [==============================] - 0s 4ms/step - loss: 0.0617 - accuracy: 0.9849 - val_loss: 0.0645 - val_accuracy: 0.9800\n",
            "Epoch 13/20\n",
            "110/110 [==============================] - 0s 4ms/step - loss: 0.0557 - accuracy: 0.9863 - val_loss: 0.0632 - val_accuracy: 0.9820\n",
            "Epoch 14/20\n",
            "110/110 [==============================] - 0s 4ms/step - loss: 0.0506 - accuracy: 0.9869 - val_loss: 0.0670 - val_accuracy: 0.9800\n",
            "Epoch 15/20\n",
            "110/110 [==============================] - 0s 4ms/step - loss: 0.0473 - accuracy: 0.9874 - val_loss: 0.0569 - val_accuracy: 0.9740\n",
            "Epoch 16/20\n",
            "110/110 [==============================] - 0s 4ms/step - loss: 0.0487 - accuracy: 0.9846 - val_loss: 0.0555 - val_accuracy: 0.9800\n",
            "Epoch 17/20\n",
            "110/110 [==============================] - 0s 4ms/step - loss: 0.0430 - accuracy: 0.9883 - val_loss: 0.0535 - val_accuracy: 0.9840\n",
            "Epoch 18/20\n",
            "110/110 [==============================] - 0s 4ms/step - loss: 0.0427 - accuracy: 0.9871 - val_loss: 0.0524 - val_accuracy: 0.9800\n",
            "Epoch 19/20\n",
            "110/110 [==============================] - 0s 4ms/step - loss: 0.0422 - accuracy: 0.9874 - val_loss: 0.0651 - val_accuracy: 0.9760\n",
            "Epoch 20/20\n",
            "110/110 [==============================] - 0s 3ms/step - loss: 0.0372 - accuracy: 0.9886 - val_loss: 0.0512 - val_accuracy: 0.9820\n"
          ]
        }
      ]
    },
    {
      "cell_type": "code",
      "source": [
        "fig, ax = plt.subplots(1,2,figsize=(15, 8))\n",
        "\n",
        "ax[0].plot(model_mlp_his1.history['loss'], label='Loss')\n",
        "ax[0].plot(model_mlp_his1.history['val_loss'], label='Validation Loss')\n",
        "plt.xlabel('Epoch')\n",
        "plt.ylabel('Loss')\n",
        "ax[0].set_title('Loss', fontsize=15)\n",
        "\n",
        "ax[1].plot(model_mlp_his1.history['accuracy'], label='Accuracy')\n",
        "ax[1].plot(model_mlp_his1.history['val_accuracy'], label='Validation Accuracy')\n",
        "ax[1].set_title('Accuracy', fontsize=15)\n",
        "\n",
        "plt.legend(loc='best', fontsize=15)"
      ],
      "metadata": {
        "colab": {
          "base_uri": "https://localhost:8080/",
          "height": 680
        },
        "id": "-FheGOrjubeo",
        "outputId": "f2a9997f-60b3-4ccc-a6a5-f61f515f746e"
      },
      "execution_count": 103,
      "outputs": [
        {
          "output_type": "execute_result",
          "data": {
            "text/plain": [
              "<matplotlib.legend.Legend at 0x7f1910da8f70>"
            ]
          },
          "metadata": {},
          "execution_count": 103
        },
        {
          "output_type": "display_data",
          "data": {
            "text/plain": [
              "<Figure size 1500x800 with 2 Axes>"
            ],
            "image/png": "[encoded data removed]"
          },
          "metadata": {}
        }
      ]
    },
    {
      "cell_type": "code",
      "source": [],
      "metadata": {
        "id": "49SG-Vgcue-z"
      },
      "execution_count": 103,
      "outputs": []
    },
    {
      "cell_type": "markdown",
      "metadata": {
        "hidden": true,
        "id": "a9089c26"
      },
      "source": [
        "### Model evaluation and prediction"
      ]
    },
    {
      "cell_type": "code",
      "execution_count": 104,
      "metadata": {
        "hidden": true,
        "scrolled": true,
        "id": "1a239b4f",
        "colab": {
          "base_uri": "https://localhost:8080/"
        },
        "outputId": "9133b9ee-871b-49da-8f17-2490c53ff71a"
      },
      "outputs": [
        {
          "output_type": "stream",
          "name": "stdout",
          "text": [
            "32/32 [==============================] - 0s 3ms/step - loss: 0.0568 - accuracy: 0.9790\n"
          ]
        },
        {
          "output_type": "execute_result",
          "data": {
            "text/plain": [
              "[0.05683150887489319, 0.9789999723434448]"
            ]
          },
          "metadata": {},
          "execution_count": 104
        }
      ],
      "source": [
        "# Evalute model on test dataset\n",
        "model_mlp_improve.evaluate(X_test, y_test)"
      ]
    },
    {
      "cell_type": "code",
      "execution_count": 105,
      "metadata": {
        "hidden": true,
        "id": "40cc2cb3",
        "colab": {
          "base_uri": "https://localhost:8080/"
        },
        "outputId": "202697ed-df87-460b-ef1a-18c7f42b5775"
      },
      "outputs": [
        {
          "output_type": "stream",
          "name": "stdout",
          "text": [
            "32/32 [==============================] - 0s 2ms/step\n"
          ]
        }
      ],
      "source": [
        "y_mlp_pred1 = model_mlp_improve.predict(X_test)\n",
        "predictied_label1 = np.argmax(y_mlp_pred1, axis=1)"
      ]
    },
    {
      "cell_type": "code",
      "execution_count": 106,
      "metadata": {
        "hidden": true,
        "scrolled": true,
        "id": "11264034",
        "colab": {
          "base_uri": "https://localhost:8080/"
        },
        "outputId": "2444327b-1444-4daf-d877-8825ca2aa24a"
      },
      "outputs": [
        {
          "output_type": "stream",
          "name": "stdout",
          "text": [
            "              precision    recall  f1-score   support\n",
            "\n",
            "     Basmati       1.00      0.99      1.00       200\n",
            "     Arborio       0.97      0.93      0.95       200\n",
            "   Karacadag       0.94      0.98      0.96       200\n",
            "     Jasmine       0.99      0.99      0.99       200\n",
            "      Ipsala       1.00      1.00      1.00       200\n",
            "\n",
            "    accuracy                           0.98      1000\n",
            "   macro avg       0.98      0.98      0.98      1000\n",
            "weighted avg       0.98      0.98      0.98      1000\n",
            "\n"
          ]
        }
      ],
      "source": [
        "report1 = classification_report(y_test, predictied_label1, target_names=types_rice)\n",
        "print(report1)"
      ]
    },
    {
      "cell_type": "code",
      "execution_count": 107,
      "metadata": {
        "hidden": true,
        "id": "6a11d5fb",
        "colab": {
          "base_uri": "https://localhost:8080/",
          "height": 841
        },
        "outputId": "031ddc24-466e-49b8-f387-43d46df7ee0c"
      },
      "outputs": [
        {
          "output_type": "display_data",
          "data": {
            "text/plain": [
              "<Figure size 1000x1000 with 2 Axes>"
            ],
            "image/png": "[encoded data removed]"
          },
          "metadata": {}
        }
      ],
      "source": [
        "#Confusion matrix\n",
        "cm = confusion_matrix(y_true=y_test, y_pred=predictied_label1)\n",
        "\n",
        "fig, ax = plt.subplots(figsize=(10,10))\n",
        "ConfusionMatrixDisplay.from_predictions(y_test, predictied_label1, \n",
        "                                        ax=ax,\n",
        "                                        display_labels=types_rice,\n",
        "                                        xticks_rotation='vertical')\n",
        "plt.show()"
      ]
    },
    {
      "cell_type": "markdown",
      "metadata": {
        "hidden": true,
        "id": "35b6c4b6"
      },
      "source": [
        "We can find that this model performs better than the basic model. <br/>\n",
        "For test dataset, basic model has an accuracy of **72.60%** while the improved model has an accuracy of **98.20%**\n",
        "\n"
      ]
    },
    {
      "cell_type": "markdown",
      "source": [
        "### Save Model MLP"
      ],
      "metadata": {
        "id": "mXGExFrMiGTw"
      }
    },
    {
      "cell_type": "code",
      "source": [
        "# Save Model\n",
        "model_mlp_improve.save('model_MLP')\n"
      ],
      "metadata": {
        "id": "0fTDbWpQu_T2"
      },
      "execution_count": 108,
      "outputs": []
    },
    {
      "cell_type": "markdown",
      "source": [
        "# IV CNN Model\n"
      ],
      "metadata": {
        "id": "u5TjueTQvIwb"
      }
    },
    {
      "cell_type": "markdown",
      "source": [
        "## Prepare data for CNN model\n"
      ],
      "metadata": {
        "id": "XhvgDDqSZq7Y"
      }
    },
    {
      "cell_type": "markdown",
      "source": [
        "In the CNN model, we have to make the dataset (pixels on images) from 1D (2500,) to 2D (50, 50), so we need to do a reshape to the features first."
      ],
      "metadata": {
        "id": "sg2kmxVlaFid"
      }
    },
    {
      "cell_type": "code",
      "source": [
        "X_train_CNN = X_train.to_numpy().reshape(-1, 50, 50, 1)\n",
        "X_val_CNN = X_val.to_numpy().reshape(-1, 50, 50, 1)\n",
        "X_test_CNN = X_test.to_numpy().reshape(-1, 50, 50, 1)\n",
        "X_train_CNN.shape"
      ],
      "metadata": {
        "id": "cdN8bllPvOdz",
        "colab": {
          "base_uri": "https://localhost:8080/"
        },
        "outputId": "c538937e-a568-45c1-832a-4f761dabccc9"
      },
      "execution_count": 109,
      "outputs": [
        {
          "output_type": "execute_result",
          "data": {
            "text/plain": [
              "(3500, 50, 50, 1)"
            ]
          },
          "metadata": {},
          "execution_count": 109
        }
      ]
    },
    {
      "cell_type": "markdown",
      "source": [
        "## Create Model CNN and Build"
      ],
      "metadata": {
        "id": "a-0nJKigciXG"
      }
    },
    {
      "cell_type": "code",
      "source": [
        "tf.keras.backend.clear_session()\n",
        "input_layer = tf.keras.Input(shape=(50, 50, 1))\n",
        "\n",
        "conv = tf.keras.layers.Conv2D(filters=32,\n",
        "                              kernel_size=3,\n",
        "                              activation='relu', padding='valid')(input_layer)\n",
        "\n",
        "maxpool = tf.keras.layers.MaxPool2D(pool_size=2,\n",
        "                                    strides=2)(conv)\n",
        "\n",
        "flatten2 = tf.keras.layers.Flatten()(maxpool)\n",
        "\n",
        "dense1 = tf.keras.layers.Dense(units=30,\n",
        "                              activation='relu')(flatten2)\n",
        "\n",
        "dense2 = tf.keras.layers.Dense(units=15,\n",
        "                              activation='relu')(dense1)\n",
        "\n",
        "dropout = tf.keras.layers.Dropout(rate=0.1, seed=100)(dense2)\n",
        "\n",
        "\n",
        "output = tf.keras.layers.Dense(units=5,\n",
        "                              activation='softmax')(dropout)"
      ],
      "metadata": {
        "id": "Sq3lWt7ga-09"
      },
      "execution_count": 110,
      "outputs": []
    },
    {
      "cell_type": "code",
      "source": [
        "model = tf.keras.Model(inputs=input_layer, outputs=output)\n",
        "model.summary()"
      ],
      "metadata": {
        "colab": {
          "base_uri": "https://localhost:8080/"
        },
        "id": "EbQLDgdmb1PE",
        "outputId": "7e60ed35-a4a2-49ac-aef7-3fea804b9f5c"
      },
      "execution_count": 111,
      "outputs": [
        {
          "output_type": "stream",
          "name": "stdout",
          "text": [
            "Model: \"model\"\n",
            "_________________________________________________________________\n",
            " Layer (type)                Output Shape              Param #   \n",
            "=================================================================\n",
            " input_1 (InputLayer)        [(None, 50, 50, 1)]       0         \n",
            "                                                                 \n",
            " conv2d (Conv2D)             (None, 48, 48, 32)        320       \n",
            "                                                                 \n",
            " max_pooling2d (MaxPooling2D  (None, 24, 24, 32)       0         \n",
            " )                                                               \n",
            "                                                                 \n",
            " flatten (Flatten)           (None, 18432)             0         \n",
            "                                                                 \n",
            " dense (Dense)               (None, 30)                552990    \n",
            "                                                                 \n",
            " dense_1 (Dense)             (None, 15)                465       \n",
            "                                                                 \n",
            " dropout (Dropout)           (None, 15)                0         \n",
            "                                                                 \n",
            " dense_2 (Dense)             (None, 5)                 80        \n",
            "                                                                 \n",
            "=================================================================\n",
            "Total params: 553,855\n",
            "Trainable params: 553,855\n",
            "Non-trainable params: 0\n",
            "_________________________________________________________________\n"
          ]
        }
      ]
    },
    {
      "cell_type": "code",
      "source": [
        "tf.keras.utils.plot_model(model,'model_CNN.png')"
      ],
      "metadata": {
        "colab": {
          "base_uri": "https://localhost:8080/",
          "height": 758
        },
        "id": "h9CsHH34cSMo",
        "outputId": "5479f930-5e76-4cf6-fa10-134bd93a9995"
      },
      "execution_count": 112,
      "outputs": [
        {
          "output_type": "execute_result",
          "data": {
            "image/png": "[encoded data removed]",
            "text/plain": [
              "<IPython.core.display.Image object>"
            ]
          },
          "metadata": {},
          "execution_count": 112
        }
      ]
    },
    {
      "cell_type": "markdown",
      "source": [
        "## Model compile and training"
      ],
      "metadata": {
        "id": "i4p47HwRcv-8"
      }
    },
    {
      "cell_type": "code",
      "source": [
        "model.compile(loss=tf.keras.losses.SparseCategoricalCrossentropy(),\n",
        "             optimizer=tf.keras.optimizers.Adam(learning_rate=0.001),\n",
        "             metrics=['accuracy'])\n",
        "model_CNN = model.fit(X_train_CNN,\n",
        "          y_train,\n",
        "          epochs=20,\n",
        "          shuffle=True,\n",
        "          validation_data=(X_val_CNN, y_val),\n",
        "          batch_size=64,\n",
        "          callbacks=tf.keras.callbacks.EarlyStopping(monitor='val_loss',\n",
        "                                                    patience=10))"
      ],
      "metadata": {
        "colab": {
          "base_uri": "https://localhost:8080/"
        },
        "id": "iioWlE2DccRA",
        "outputId": "f9234a49-c3fd-4feb-d881-820f9e062b11"
      },
      "execution_count": 113,
      "outputs": [
        {
          "output_type": "stream",
          "name": "stdout",
          "text": [
            "Epoch 1/20\n",
            "55/55 [==============================] - 2s 10ms/step - loss: 0.7905 - accuracy: 0.6789 - val_loss: 0.1456 - val_accuracy: 0.9820\n",
            "Epoch 2/20\n",
            "55/55 [==============================] - 0s 6ms/step - loss: 0.1992 - accuracy: 0.9243 - val_loss: 0.0919 - val_accuracy: 0.9760\n",
            "Epoch 3/20\n",
            "55/55 [==============================] - 0s 6ms/step - loss: 0.1458 - accuracy: 0.9520 - val_loss: 0.0803 - val_accuracy: 0.9840\n",
            "Epoch 4/20\n",
            "55/55 [==============================] - 0s 7ms/step - loss: 0.1181 - accuracy: 0.9586 - val_loss: 0.0589 - val_accuracy: 0.9840\n",
            "Epoch 5/20\n",
            "55/55 [==============================] - 0s 7ms/step - loss: 0.0932 - accuracy: 0.9666 - val_loss: 0.0642 - val_accuracy: 0.9780\n",
            "Epoch 6/20\n",
            "55/55 [==============================] - 0s 6ms/step - loss: 0.0676 - accuracy: 0.9760 - val_loss: 0.0539 - val_accuracy: 0.9860\n",
            "Epoch 7/20\n",
            "55/55 [==============================] - 0s 7ms/step - loss: 0.0702 - accuracy: 0.9763 - val_loss: 0.0987 - val_accuracy: 0.9620\n",
            "Epoch 8/20\n",
            "55/55 [==============================] - 0s 8ms/step - loss: 0.0727 - accuracy: 0.9717 - val_loss: 0.0551 - val_accuracy: 0.9840\n",
            "Epoch 9/20\n",
            "55/55 [==============================] - 0s 8ms/step - loss: 0.0563 - accuracy: 0.9817 - val_loss: 0.0554 - val_accuracy: 0.9800\n",
            "Epoch 10/20\n",
            "55/55 [==============================] - 0s 7ms/step - loss: 0.0479 - accuracy: 0.9823 - val_loss: 0.0542 - val_accuracy: 0.9880\n",
            "Epoch 11/20\n",
            "55/55 [==============================] - 0s 8ms/step - loss: 0.0598 - accuracy: 0.9783 - val_loss: 0.0890 - val_accuracy: 0.9780\n",
            "Epoch 12/20\n",
            "55/55 [==============================] - 0s 9ms/step - loss: 0.0599 - accuracy: 0.9769 - val_loss: 0.0576 - val_accuracy: 0.9800\n",
            "Epoch 13/20\n",
            "55/55 [==============================] - 0s 7ms/step - loss: 0.0392 - accuracy: 0.9863 - val_loss: 0.0483 - val_accuracy: 0.9840\n",
            "Epoch 14/20\n",
            "55/55 [==============================] - 0s 7ms/step - loss: 0.0397 - accuracy: 0.9866 - val_loss: 0.0559 - val_accuracy: 0.9780\n",
            "Epoch 15/20\n",
            "55/55 [==============================] - 0s 7ms/step - loss: 0.0386 - accuracy: 0.9880 - val_loss: 0.0499 - val_accuracy: 0.9820\n",
            "Epoch 16/20\n",
            "55/55 [==============================] - 0s 6ms/step - loss: 0.0333 - accuracy: 0.9877 - val_loss: 0.0552 - val_accuracy: 0.9800\n",
            "Epoch 17/20\n",
            "55/55 [==============================] - 0s 6ms/step - loss: 0.0340 - accuracy: 0.9886 - val_loss: 0.0546 - val_accuracy: 0.9800\n",
            "Epoch 18/20\n",
            "55/55 [==============================] - 0s 6ms/step - loss: 0.0358 - accuracy: 0.9871 - val_loss: 0.0736 - val_accuracy: 0.9780\n",
            "Epoch 19/20\n",
            "55/55 [==============================] - 0s 6ms/step - loss: 0.0432 - accuracy: 0.9854 - val_loss: 0.0542 - val_accuracy: 0.9820\n",
            "Epoch 20/20\n",
            "55/55 [==============================] - 0s 6ms/step - loss: 0.0283 - accuracy: 0.9903 - val_loss: 0.0417 - val_accuracy: 0.9840\n"
          ]
        }
      ]
    },
    {
      "cell_type": "code",
      "source": [
        "model_CNN_his = model_CNN.history\n",
        "model_CNN_his"
      ],
      "metadata": {
        "colab": {
          "base_uri": "https://localhost:8080/"
        },
        "id": "wmbAgUoydBo0",
        "outputId": "03115e47-d633-452c-db40-4fb22b96fe17"
      },
      "execution_count": 114,
      "outputs": [
        {
          "output_type": "execute_result",
          "data": {
            "text/plain": [
              "{'loss': [0.7905459403991699,\n",
              "  0.19921866059303284,\n",
              "  0.1457885205745697,\n",
              "  0.11813174188137054,\n",
              "  0.09324988722801208,\n",
              "  0.0675869807600975,\n",
              "  0.07015342265367508,\n",
              "  0.07266879826784134,\n",
              "  0.056284137070178986,\n",
              "  0.04794620722532272,\n",
              "  0.059837888926267624,\n",
              "  0.059933893382549286,\n",
              "  0.039192721247673035,\n",
              "  0.03968898952007294,\n",
              "  0.03859741985797882,\n",
              "  0.033252593129873276,\n",
              "  0.03397104889154434,\n",
              "  0.035804204642772675,\n",
              "  0.04321807250380516,\n",
              "  0.028334051370620728],\n",
              " 'accuracy': [0.678857147693634,\n",
              "  0.9242857098579407,\n",
              "  0.9520000219345093,\n",
              "  0.9585714340209961,\n",
              "  0.9665714502334595,\n",
              "  0.9760000109672546,\n",
              "  0.9762856960296631,\n",
              "  0.9717142581939697,\n",
              "  0.9817143082618713,\n",
              "  0.982285737991333,\n",
              "  0.9782857298851013,\n",
              "  0.9768571257591248,\n",
              "  0.9862856864929199,\n",
              "  0.9865714311599731,\n",
              "  0.9879999756813049,\n",
              "  0.9877142906188965,\n",
              "  0.9885714054107666,\n",
              "  0.9871428608894348,\n",
              "  0.9854285717010498,\n",
              "  0.9902856945991516],\n",
              " 'val_loss': [0.1456153690814972,\n",
              "  0.09185852110385895,\n",
              "  0.08027386665344238,\n",
              "  0.05892597511410713,\n",
              "  0.06422688812017441,\n",
              "  0.05391744151711464,\n",
              "  0.09873548150062561,\n",
              "  0.055109668523073196,\n",
              "  0.05544241890311241,\n",
              "  0.05419231951236725,\n",
              "  0.08899751305580139,\n",
              "  0.05762435868382454,\n",
              "  0.048330966383218765,\n",
              "  0.05588403344154358,\n",
              "  0.049853093922138214,\n",
              "  0.05515649914741516,\n",
              "  0.05460540950298309,\n",
              "  0.07355711609125137,\n",
              "  0.054199494421482086,\n",
              "  0.04173262044787407],\n",
              " 'val_accuracy': [0.9819999933242798,\n",
              "  0.9760000109672546,\n",
              "  0.984000027179718,\n",
              "  0.984000027179718,\n",
              "  0.9779999852180481,\n",
              "  0.9860000014305115,\n",
              "  0.9620000123977661,\n",
              "  0.984000027179718,\n",
              "  0.9800000190734863,\n",
              "  0.9879999756813049,\n",
              "  0.9779999852180481,\n",
              "  0.9800000190734863,\n",
              "  0.984000027179718,\n",
              "  0.9779999852180481,\n",
              "  0.9819999933242798,\n",
              "  0.9800000190734863,\n",
              "  0.9800000190734863,\n",
              "  0.9779999852180481,\n",
              "  0.9819999933242798,\n",
              "  0.984000027179718]}"
            ]
          },
          "metadata": {},
          "execution_count": 114
        }
      ]
    },
    {
      "cell_type": "code",
      "source": [
        "fig, ax = plt.subplots(1,2,figsize=(15, 8))\n",
        "\n",
        "ax[0].plot(model_CNN_his['loss'], label='Loss')\n",
        "ax[0].plot(model_CNN_his['val_loss'], label='Validation Loss')\n",
        "plt.xlabel('Epoch')\n",
        "plt.ylabel('Loss')\n",
        "ax[0].set_title('Loss', fontsize=15)\n",
        "\n",
        "ax[1].plot(model_CNN_his['accuracy'], label='Accuracy')\n",
        "ax[1].plot(model_CNN_his['val_accuracy'], label='Validation Accuracy')\n",
        "ax[1].set_title('Accuracy', fontsize=15)\n",
        "\n",
        "plt.legend(loc='best', fontsize=15)"
      ],
      "metadata": {
        "colab": {
          "base_uri": "https://localhost:8080/",
          "height": 680
        },
        "id": "2liugZ3HdVPs",
        "outputId": "909ec500-c319-485a-a710-1f43a83bec97"
      },
      "execution_count": 115,
      "outputs": [
        {
          "output_type": "execute_result",
          "data": {
            "text/plain": [
              "<matplotlib.legend.Legend at 0x7f19af3deb00>"
            ]
          },
          "metadata": {},
          "execution_count": 115
        },
        {
          "output_type": "display_data",
          "data": {
            "text/plain": [
              "<Figure size 1500x800 with 2 Axes>"
            ],
            "image/png": "[encoded data removed]"
          },
          "metadata": {}
        }
      ]
    },
    {
      "cell_type": "markdown",
      "source": [
        "## Model evaluation and prediction"
      ],
      "metadata": {
        "id": "UwAKO7V2dhTv"
      }
    },
    {
      "cell_type": "code",
      "source": [
        "model.evaluate(X_test_CNN, y_test)"
      ],
      "metadata": {
        "colab": {
          "base_uri": "https://localhost:8080/"
        },
        "id": "Wp2YgkDYdebb",
        "outputId": "11e5908b-8342-4ecb-d429-c8eaac58bc76"
      },
      "execution_count": 116,
      "outputs": [
        {
          "output_type": "stream",
          "name": "stdout",
          "text": [
            "32/32 [==============================] - 0s 3ms/step - loss: 0.0520 - accuracy: 0.9880\n"
          ]
        },
        {
          "output_type": "execute_result",
          "data": {
            "text/plain": [
              "[0.051975298672914505, 0.9879999756813049]"
            ]
          },
          "metadata": {},
          "execution_count": 116
        }
      ]
    },
    {
      "cell_type": "code",
      "source": [
        "y_pred1 = model.predict(X_test_CNN)\n",
        "predictied_label = np.argmax(y_pred1, axis=1)"
      ],
      "metadata": {
        "colab": {
          "base_uri": "https://localhost:8080/"
        },
        "id": "dXXzzdtUdoW3",
        "outputId": "4e02f01a-db1d-4a33-8146-5bebb23c7e4c"
      },
      "execution_count": 117,
      "outputs": [
        {
          "output_type": "stream",
          "name": "stdout",
          "text": [
            "32/32 [==============================] - 0s 2ms/step\n"
          ]
        }
      ]
    },
    {
      "cell_type": "code",
      "source": [
        "\n",
        "cm = confusion_matrix(y_true=y_test, y_pred=predictied_label)\n",
        "\n",
        "fig, ax = plt.subplots(figsize=(10,10))\n",
        "ConfusionMatrixDisplay.from_predictions(y_test, predictied_label, \n",
        "                                        ax=ax,\n",
        "                                        display_labels=types_rice,\n",
        "                                        xticks_rotation='vertical')\n",
        "plt.show()"
      ],
      "metadata": {
        "colab": {
          "base_uri": "https://localhost:8080/",
          "height": 841
        },
        "id": "aRvPIr38dv1b",
        "outputId": "6f2f063d-84cd-4dc9-db23-4f9246426b40"
      },
      "execution_count": 118,
      "outputs": [
        {
          "output_type": "display_data",
          "data": {
            "text/plain": [
              "<Figure size 1000x1000 with 2 Axes>"
            ],
            "image/png": "[encoded data removed]"
          },
          "metadata": {}
        }
      ]
    },
    {
      "cell_type": "markdown",
      "source": [
        "When we use model CNN accuracy is 98.80% "
      ],
      "metadata": {
        "id": "-ZembvEUhhRL"
      }
    },
    {
      "cell_type": "markdown",
      "source": [
        "## Save Model CNN"
      ],
      "metadata": {
        "id": "RJ5VUCsciMfv"
      }
    },
    {
      "cell_type": "code",
      "source": [
        "model.save('model_CNN')"
      ],
      "metadata": {
        "colab": {
          "base_uri": "https://localhost:8080/"
        },
        "id": "jG1uL-G-e4H4",
        "outputId": "f39d24aa-fc28-453a-f28b-047e566c166c"
      },
      "execution_count": 119,
      "outputs": [
        {
          "output_type": "stream",
          "name": "stderr",
          "text": [
            "WARNING:absl:Found untraced functions such as _jit_compiled_convolution_op while saving (showing 1 of 1). These functions will not be directly callable after loading.\n"
          ]
        }
      ]
    }
  ]
}